{
 "cells": [
  {
   "cell_type": "markdown",
   "metadata": {},
   "source": [
    "<img src =\"images/Logo.jpg\" alt =\"nf-core\" width=\"500\" height=\"500\">\n",
    "\n",
    "## Proteomics Data Analysis Overview\n",
    "\n",
    "This document outlines the essential steps in the process of analyzing proteomics data for the NIGMS National Resource for Quantitative Proteomics, and recommends commonly used tools and techniques for this purpose. It is assumed in this document that the experimental design is simple and that differential expression is being assessed between 2 experimental conditions, i.e. a simple 1:1 comparison, with some information about analyzing data from complex experimental designs. The focus of the SOP is on Tandem Mass Tag multiplex designs as well as Data Independent Acquistion data. This document describes the Data preprocessing, normalization, and differential abundance analysis. The minimum recommended biological replicates for each sample condition is 5. The number of replicates should be increased for more complex study designs.  \n",
    "\n",
    "#### Note: This notebook uses simple base R plots. These can be modified to learn how to build better publication quality plots using R.\n",
    "\n",
    "### Basic Steps \n",
    "1. Database search using Mascot, MaxQuant, or Prosit/EncylopeDIA\n",
    "2. Assess the sample variance, biological replicate correlation, and data distributions using ProtieNorm\n",
    "3. Perfom data normalization using the method with the lowest variance and highest intra-group correlation. For the majority of cases, VSN and Cyclic Loess have performed well. \n",
    "4. Plot quality control figures such as PCA and clustered dendrograms to check for outlier samples. These plots will give an indication of the effect size in the data. How many proteins do we expect to be differenitally expressed? \n",
    "5. Set up the limma model and run analysis. The model should consider factors such as batch, sex, age, if the samples are paired, etc. \n",
    "6. Plot the results using Volcano and/or MD plots. \n",
    "\n",
    "<img src =\"images/WorkFlow_figure.png\" alt=\"workflow\" width=\"700\" height = \"700\">"
   ]
  },
  {
   "cell_type": "markdown",
   "metadata": {},
   "source": [
    "### Glossary of Terms\n",
    "\n",
    "\n",
    "<b> MaxQuant: </b> a quantitative proteomics software package designed for analyzing large mass-spectrometric data sets. It is specifically aimed at high-resolution MS data. Several labeling techniques as well as label-free quantification are supported. MaxQuant is freely available at maxquant.org\n",
    "\n",
    "<b> Tandem Mass Tag (TMT):</b> Thermo Scientific Tandem Mass Tag Reagents are designed to enable identification and quantitation of proteins in different samples using tandem mass spectrometry (MS). All mass tagging reagents within a set have the same nominal mass (i.e., are isobaric) and chemical structure composed of an amine-reactive NHS ester group, a spacer arm (mass normalizer), and a mass reporter. The standard tandem mass tag (TMT) labeling kits and reagents enable multiplex (6-plex to 11-plex) relative quantitation using high-resolution MS for samples prepared from cells or tissues.\n",
    "\n",
    "<b> Multinotch MS3: </b> We fragment the aggregate MS3 precursor population (i.e., MultiNotch MS3) to produce a reporter ion population that is far more intense than the population we would have produced had we only fragmented a single MS2 ion. At the same time, we maintain the selectivity of the standard MS3 method by carefully defining the isolation notches of the SPS isolation waveform to ensure high isolation specificity of the target MS2 fragment ions.(McAlister et al. 2014)\n",
    "\n",
    "<b> Data-dependent acquistion (DDA): </b> Only selected peptides are further fragemented during the second stage of tandem MS. These selected peptides are chosen within narrow range of mass-to-charge (m/z) signal intensity. Typically, the precursors of highest abundance, \"top N\" precursors, are selected for further analysis. MS/MS data acquistion occurs sequentially for each peptide. The resulting data is searched using existing databases. Allows relative quantification of peptides between samples. Challenges: DDA can contain \"gaps\" where peptides have been identified in some samples only. Low-abundance peptides are under-represented. \n",
    "\n",
    "<b> Data Independent Acquistion (DIA): </b> the mass spectrometer systematically acquires MS/MS spectra irrespective of whether or not a precursor signal is detected. All peptides are fragmented and analyzed during the second stage of tandem MS. MS/MS spectra are acquired either by fragmenting all ions that enter the mass spectrometer at a given time, called broadband DIA, or by sequentially focusing on a narrow m/z window of precursors and fragmenting all precursors detected within that window. MS/MS data acquistion occurs in parallel across peptides. Resulting MS spectra are highly multiplexed!  \n",
    "\n",
    "The DIA workflow has been adopted from Brian Seerly's group. \n",
    "\n",
    "\"Typically tens to hundreds of biological samples are processed and analyzed using LC-MS/MS in quantitative proteomics experiments.  These runs can be searched using either a typical DDA spectrum library-based workflow or a pure DIA workflow using PECAN, or spectrum-centric search methods based on DIA-Umpire or Spectronaut Pulsar. Results from runs dedicated to peptide detection are formed into a DIA-based chromatogram library. In a chromatogram library, we catalog retention time, precursor mass, peptide fragmentation patterns, and known interferences that identify each peptide on our instrumentation within a specific sample matrix. Furthermore, we report the development EncyclopeDIA, a library search engine that takes advantage of chromatogram libraries, and we demonstrate a substantial gain in sensitivity over typical DIA and DDA workflows. \"\n",
    "\n",
    "\n",
    "<b> Normalization: </b> to remove technical and biological sources of unwanted variation\n",
    "\n",
    "<b> Missing Values: </b> a protein with a zero abundance indicates the protein was not identified in that sample \n",
    "\n",
    "<b> Batch effect: </b> occurs when non-biological factors in an experiment cause changes in the data produced by the experiment. Such effects can lead to inaccurate conclusions. Examples include multiple TMT batches, sex, samples that were prepared on different days, etc. \n",
    "\n",
    "<b> logfc: </b> estimate of the Log2 fold change corresponding to the contrast (group comparison)\n",
    "\n",
    "<b> FDR p-value: </b> False discovery rate adjusted p-value for multiple test correction. FDR determines adjusted p-values for each test. A p-value of 0.05 implies that 5% of all <b> tests </b> will result in false positives. An FDR adjusted p-value (or q-value) of 0.05 implies that 5% of <b> significant tests </b> will result in false positives. The latter will result in fewer false positives."
   ]
  },
  {
   "cell_type": "markdown",
   "metadata": {},
   "source": [
    "# Step 1. Quality Control and data pre-processing\n",
    "\n",
    "## Steps for Data pre-processing\n",
    "\n",
    "1. Database search results from MaxQuant are loaded into proteiNorm to identify sample outliers and evalute the best normalization method for the data set.\n",
    "2. The proteinGroups.txt file is filtered for proteins that match a contaminants database or are reverse sequences. \n",
    "3. Outlier samples can be removed\n",
    "4. Proteins can be filtered by requireing at least 2/3 of the replicates within one sample group to have a value. This removes proteins that are missing in most or all of the samples.\n",
    "5. Evaluation metrics are evaluated and the normalization method that provides the highest intra-group correlation and the lowest variance is the method of choice. For the majority of data sets, VSN and cyclic loess have performed the best. \n",
    "6. The normalized protein abundance file is exported and becomes the input for the Differential Abundance Analysis. \n",
    "7. QC plots include PCA, dendrograms, violin plots, and a clustered heatmap of all identified proteins is included. These figures help to identify any batch effects such as TMT batch and gender effects.  "
   ]
  },
  {
   "cell_type": "markdown",
   "metadata": {},
   "source": [
    "## proteiNorm - Evaluation of normalization methods\n",
    "\n",
    "### https://github.com/ByrumLab/proteiNorm \n",
    "\n",
    "The most common quantitative measures are <b>standard deviation (SD) , coefficient of variation (CV), median absolute deviation (MAD), and pooled estimate of variance (PEV). </b>\n",
    "<ul>\n",
    "    <li> SD can be either positive or negative and is described relative to the sample mean, making it difficult to compare samples with differing mean. Measuring PEV could be an alternative for comparisons as it is always positive. </li>\n",
    "     <li> CV measures variation as a percentage of mean and thus can be expressed independently of the mean, making it easier to compare variability between samples. However, CV is highly sensitive when the sample mean is close to zero as even low variation could produce high CV. Moreover, SD, PEV, and CV are sensitive to outliers. </li>\n",
    "     <li>  MAD measures the median of the absolute deviations around the sample median and thus is more robust and less sensitive to outliers. These methods were used previously for normalization evaluation of omics data. </li>\n",
    "    <li> Qualitative evaluation can be based on boxplots, MA plots, dendrograms, or correlation plots. </li>\n",
    "     <li> Optimally, a normalization method for a given data set should be selected on the basis of both quantitative and qualitative evaluation measures and by further analysis of previously known housekeeping genes or proteins (Chawade et al. 2014).</li>\n",
    "        \n",
    "</ul>        \n",
    "\n",
    "\n",
    "## terms for Normalization\n",
    "\n",
    "<b> Pooled variance: </b>  (also known as combined variance, composite variance, or overall variance, is a method for estimating variance of several different populations when the mean of each population may be different, but one may assume that the variance of each population is the same. The numerical estimate resulting from the use of this method is also called the pooled variance. Under the assumption of equal population variances, the pooled sample variance provides a higher precision estimate of variance than the individual sample variances.\n",
    "\n",
    "<b> intra-group correlations: </b> describes how strongly units in the same group resemble each other. While it is viewed as a type of correlation, unlike most other correlation measures it operates on data structured as groups, rather than data structured as paired observations.\n",
    "\n",
    "<b> variance stabilizing normalization (VSN):</b> The method uses a robust variant of the maximum-likelihood estimator for an additive-multiplicative error model and affine calibration. The model incorporates data calibration step (a.k.a. normalization), a model for the dependence of the variance on the mean intensity and a variance stabilizing data transformation. Differences between transformed intensities are analogous to \"normalized log-ratios\". However, in contrast to the latter, their variance is independent of the mean, and they are usually more sensitive and specific in detecting differential transcription (Huber et al. 2002)\n",
    "\n",
    "<b> Cyclic Loess: </b> Normalize the columns of a matrix, cyclicly applying loess normalization to normalize each pair of columns to each other. For example, if we see in an MA-plot a non-linear bias in the M that changes as function of A; the general idea behind loess normalization is to estimate this bias and remove it. Because the bias is a curve of no obvious parametric form (it is not a line or parabola or a sine function, etc.) we want to fit a curve to the data. Local weighted regression (loess) provides one way to do this. Loess is inspired by Taylor’s theorem that in practice means that at any given point, if one looks at a small enough region around that point, the curve looks like a parabola. If you look even closer it looks like a straight line (note that gardeners can make a curved edge with a straight shovel).\n",
    "\n",
    "Loess takes advantage of this mathematical property of functions. For each point in your data set a region is defined considered to be small enough to assume the curve approximated by a line in that region and a line is fit with weighted least squares. The weights depend on the distance from the point of interest. The robust version of loess also weights points down that are considered outliers. (http://genomicsclass.github.io/book/pages/normalization.html)"
   ]
  },
  {
   "cell_type": "markdown",
   "metadata": {},
   "source": [
    "## how to handle missing values\n",
    "\n",
    "Missing values are not imputed if at all possible. DIA helps limit the number of missing values when more than 16 samples are included in an analysis (larger than a TMT-16plex). However, limma handles any missing values in the data as follows: \n",
    "\n",
    "When fitting protein-wise linear models in limma using lmFit(), missing values are removed from the response vector of the log-ratios, and the corresponding rows of the design matrix are removed before the linear model is fitted to each protein. \n",
    "\n",
    "Missing values in limma are treated the same as the <b> lm() </b> function with <b> na.action=na.omit </b>. \n",
    "\n",
    "It doesn’t mind NAs coming in, but corrects the degrees of freedom depending on the number of missing values for each protein. If there are zeros in the matrix, then these will be used in the average calculation and impact the fold change calculation. "
   ]
  },
  {
   "cell_type": "markdown",
   "metadata": {},
   "source": [
    "## ProteiNorm Plots\n",
    "### intra-group correlation\n",
    "#### High intragroup correlation values indicate high correlation of replicates within treatment groups and are desirable.   \n",
    "\n",
    "<img src=\"images/COR.png\" alt=\"correlation\" width=\"400\" height=\"400\" >\n",
    "<b>Figure 1: Correlation Plot.</b> Shows all pair-wise intra-group correlations for different normalization methods.                                                                "
   ]
  },
  {
   "cell_type": "markdown",
   "metadata": {},
   "source": [
    "### Sample Variation\n",
    "#### Small values are desirable as they indicate limited variation of sample replicates.\n",
    "\n",
    "<img src=\"images/PCV_PEV_PMAD.png\" alt=\"PCV\" width=\"1000\" height=\"1000\" >\n",
    "\n",
    "<b>Figure 2: PCV, PMAD, PEV.</b> Pooled coefficient of variation (PCV), pooled median absolute difference (PMAD), pooled estimate of variance (PEV) are measurements of intragroup variations. \n"
   ]
  },
  {
   "cell_type": "code",
   "execution_count": 4,
   "metadata": {
    "scrolled": true
   },
   "outputs": [
    {
     "name": "stderr",
     "output_type": "stream",
     "text": [
      "Installing packages into ‘/home/jupyter/.R/library’\n",
      "(as ‘lib’ is unspecified)\n",
      "\n",
      "Warning message:\n",
      "“package ‘edgeR’ is not available for this version of R\n",
      "\n",
      "A version of this package for your version of R might be available elsewhere,\n",
      "see the ideas at\n",
      "https://cran.r-project.org/doc/manuals/r-patched/R-admin.html#Installing-packages”\n"
     ]
    }
   ],
   "source": [
    "# load libraries\n",
    "\n",
    "install.packages(c('readr','matrixStats','tidyverse','ggfortify','edgeR','RColorBrewer','pls','colorspace'))"
   ]
  },
  {
   "cell_type": "code",
   "execution_count": 15,
   "metadata": {},
   "outputs": [
    {
     "name": "stderr",
     "output_type": "stream",
     "text": [
      "Installing package into ‘/home/jupyter/.R/library’\n",
      "(as ‘lib’ is unspecified)\n",
      "\n",
      "Warning message:\n",
      "“package ‘limma’ is not available for this version of R\n",
      "\n",
      "A version of this package for your version of R might be available elsewhere,\n",
      "see the ideas at\n",
      "https://cran.r-project.org/doc/manuals/r-patched/R-admin.html#Installing-packages”\n"
     ]
    }
   ],
   "source": [
    "install.packages('limma')"
   ]
  },
  {
   "cell_type": "code",
   "execution_count": 5,
   "metadata": {},
   "outputs": [
    {
     "name": "stderr",
     "output_type": "stream",
     "text": [
      "── \u001b[1mAttaching packages\u001b[22m ─────────────────────────────────────── tidyverse 1.3.2 ──\n",
      "\u001b[32m✔\u001b[39m \u001b[34mggplot2\u001b[39m 3.3.6      \u001b[32m✔\u001b[39m \u001b[34mdplyr  \u001b[39m 1.0.10\n",
      "\u001b[32m✔\u001b[39m \u001b[34mtibble \u001b[39m 3.1.8      \u001b[32m✔\u001b[39m \u001b[34mstringr\u001b[39m 1.4.1 \n",
      "\u001b[32m✔\u001b[39m \u001b[34mtidyr  \u001b[39m 1.2.1      \u001b[32m✔\u001b[39m \u001b[34mforcats\u001b[39m 0.5.2 \n",
      "\u001b[32m✔\u001b[39m \u001b[34mpurrr  \u001b[39m 0.3.5      \n",
      "── \u001b[1mConflicts\u001b[22m ────────────────────────────────────────── tidyverse_conflicts() ──\n",
      "\u001b[31m✖\u001b[39m \u001b[34mdplyr\u001b[39m::\u001b[32mcount()\u001b[39m  masks \u001b[34mmatrixStats\u001b[39m::count()\n",
      "\u001b[31m✖\u001b[39m \u001b[34mdplyr\u001b[39m::\u001b[32mfilter()\u001b[39m masks \u001b[34mstats\u001b[39m::filter()\n",
      "\u001b[31m✖\u001b[39m \u001b[34mdplyr\u001b[39m::\u001b[32mlag()\u001b[39m    masks \u001b[34mstats\u001b[39m::lag()\n"
     ]
    },
    {
     "ename": "ERROR",
     "evalue": "Error in library(edgeR): there is no package called ‘edgeR’\n",
     "output_type": "error",
     "traceback": [
      "Error in library(edgeR): there is no package called ‘edgeR’\nTraceback:\n",
      "1. library(edgeR)"
     ]
    }
   ],
   "source": [
    "library(readr)\n",
    "library(matrixStats)\n",
    "library(tidyverse)\n",
    "library(ggfortify)\n",
    "library(edgeR)\n",
    "library(RColorBrewer)\n",
    "library(pls)\n",
    "library(colorspace)"
   ]
  },
  {
   "cell_type": "code",
   "execution_count": 6,
   "metadata": {},
   "outputs": [],
   "source": [
    "# Set colors for plots\n",
    "\n",
    "# colors \n",
    "orange <- \"#f2ab07\"\n",
    "green <- \"#35a562\"\n",
    "green2 <- \"#0ee2d7\"\n",
    "red <- \"#e20d26\"\n",
    "blue <- \"#0f0fe2\""
   ]
  },
  {
   "cell_type": "code",
   "execution_count": 7,
   "metadata": {},
   "outputs": [
    {
     "data": {
      "text/html": [
       "'/home/jupyter/ProteomicsUAMS'"
      ],
      "text/latex": [
       "'/home/jupyter/ProteomicsUAMS'"
      ],
      "text/markdown": [
       "'/home/jupyter/ProteomicsUAMS'"
      ],
      "text/plain": [
       "[1] \"/home/jupyter/ProteomicsUAMS\""
      ]
     },
     "metadata": {},
     "output_type": "display_data"
    }
   ],
   "source": [
    "getwd()"
   ]
  },
  {
   "cell_type": "markdown",
   "metadata": {},
   "source": [
    "## Example data: the data has been normalized using Cyclic Loess. \n",
    "The input file contains both the normalized MS3 protein intensities from a TMT-10plex project as well as the sample names, group, and batch information in the same input file. Normally, the \"metafile\" and \"data\" would be imported separately and evaluated using proteiNorm in the proteomicsDIA R package. "
   ]
  },
  {
   "cell_type": "code",
   "execution_count": 8,
   "metadata": {},
   "outputs": [],
   "source": [
    "## Load in data \n",
    "# set the Group column as factors\n",
    "\n",
    "# Data normalized by ProteiNorm using Cyclic Loess\n",
    "# contains sample information and protein values in one matrix\n",
    "TMT1 <- read_csv(\"Byrum_ProteiNorm_cyclicLoess_Rinput2_meta.csv\", col_types = cols(Group = col_factor(levels = c(\"0\",\"1\",\"2\",\"3\",\"4\",\"5\"))))\n"
   ]
  },
  {
   "cell_type": "markdown",
   "metadata": {},
   "source": [
    "### boxplot\n",
    "\n",
    "A boxplot is a standardized way of displaying the distribution of data based on a five number summary (“minimum”, first quartile (Q1), median, third quartile (Q3), and “maximum”). It can tell you about your outliers and what their values are. It can also tell you if your data is symmetrical, how tightly your data is grouped, and if and how your data is skewed.\n",
    "\n",
    "For some distributions/datasets, you will find that you need more information than the measures of central tendency (median, mean, and mode). You need to have information on the variability or dispersion of the data. A boxplot is a graph that gives you a good indication of how the values in the data are spread out.\n",
    "\n",
    "<img src=\"https://miro.medium.com/max/1400/1*NRlqiZGQdsIyAu0KzP7LaQ.png\" alt=\"boxplot\" width=\"600\" height=\"600\">\n",
    "Reference= https://towardsdatascience.com/understanding-boxplots-5e2df7bcbd51\n"
   ]
  },
  {
   "cell_type": "code",
   "execution_count": 9,
   "metadata": {},
   "outputs": [
    {
     "data": {
      "image/png": "[encoded data removed]",
      "text/plain": [
       "plot without title"
      ]
     },
     "metadata": {
      "image/png": {
       "height": 420,
       "width": 420
      }
     },
     "output_type": "display_data"
    }
   ],
   "source": [
    "# Boxplot of samples protein intensities\n",
    "######## individual TMT batch\n",
    "datTMT1 <- as.data.frame(TMT1)\n",
    "row.names(datTMT1) <- datTMT1$Sample\n",
    "boxplot(t(datTMT1[1:nrow(datTMT1), 6:ncol(datTMT1)]))\n"
   ]
  },
  {
   "cell_type": "markdown",
   "metadata": {},
   "source": [
    "## Histogram plot\n",
    "Graphs that display the distribution of your continuous data. They are fantastic exploratory tools because they reveal properties about your sample data in ways that summary statistics cannot. For instance, while the mean and standard deviation can numerically summarize your data, histograms bring your sample data to life.\n",
    "\n",
    "We often use summary statistics to describe an entire dataset. These statistics use a single number to quantify a characteristic of the sample. For example, a measure of central tendency is a single value that represents the center point or typical value of a dataset, such as the mean. A measure of variability is another type of summary statistic that describes how spread out the values are in your dataset. The standard deviation is a conventional measure of dispersion.\n",
    "\n",
    "identifying the shape of your distribution. The shape of the distribution is a fundamental characteristic of your sample that can determine which measure of central tendency best reflects the center of your data. Relatedly, the shape also impacts your choice between using a parametric or nonparametric hypothesis test. In this manner, histograms are informative about the summary statistics and hypothesis tests that are appropriate for your data.\n",
    "\n",
    "<b> Below you will see a large number of proteins with a normalized intensity of zero. These are the missing proteins most likely from the TMT batch effect. </b>\n",
    "\n",
    "Reference: https://statisticsbyjim.com/basics/histograms/"
   ]
  },
  {
   "cell_type": "code",
   "execution_count": 10,
   "metadata": {},
   "outputs": [
    {
     "data": {
      "image/png": "[encoded data removed]",
      "text/plain": [
       "Plot with title “Histogram of as.matrix(datTMT1[, 6:ncol(datTMT1)])”"
      ]
     },
     "metadata": {
      "image/png": {
       "height": 420,
       "width": 420
      }
     },
     "output_type": "display_data"
    }
   ],
   "source": [
    "# Check the protein distribution\n",
    "hist(as.matrix(datTMT1[, 6:ncol(datTMT1)]))"
   ]
  },
  {
   "cell_type": "code",
   "execution_count": 11,
   "metadata": {},
   "outputs": [
    {
     "data": {
      "text/html": [
       "<table class=\"dataframe\">\n",
       "<caption>A matrix: 18 × 18 of type dbl</caption>\n",
       "<thead>\n",
       "\t<tr><th></th><th scope=col>MCF_10A_UT_1</th><th scope=col>MCF_10A_UT_2</th><th scope=col>MCF_10A_UT_3</th><th scope=col>MDA-MB-231_UT_1</th><th scope=col>MDA-MB-231_UT_2</th><th scope=col>MDA-MB-231_UT_3</th><th scope=col>HCC_1937_UT_1</th><th scope=col>HCC_1937_UT_2</th><th scope=col>HCC_1937_UT_3</th><th scope=col>MCF_10A_TR_1</th><th scope=col>MCF_10A_TR_2</th><th scope=col>MCF_10A_TR_3</th><th scope=col>MDA-MB-231_TR_1</th><th scope=col>MDA-MB-231_TR_2</th><th scope=col>MDA-MB-231_TR_3</th><th scope=col>HCC_1937_TR_1</th><th scope=col>HCC_1937_TR_2</th><th scope=col>HCC_1937_TR_3</th></tr>\n",
       "</thead>\n",
       "<tbody>\n",
       "\t<tr><th scope=row>MCF_10A_UT_1</th><td>1.0000000</td><td>0.9916503</td><td>0.9923122</td><td>0.9739217</td><td>0.9738778</td><td>0.9755847</td><td>0.9667934</td><td>0.9659531</td><td>0.9641012</td><td>0.7446495</td><td>0.7448176</td><td>0.7455561</td><td>0.7324895</td><td>0.7337182</td><td>0.7329541</td><td>0.7280044</td><td>0.7264160</td><td>0.7267321</td></tr>\n",
       "\t<tr><th scope=row>MCF_10A_UT_2</th><td>0.9916503</td><td>1.0000000</td><td>0.9920346</td><td>0.9747804</td><td>0.9751166</td><td>0.9754499</td><td>0.9666607</td><td>0.9679201</td><td>0.9651115</td><td>0.7439419</td><td>0.7445145</td><td>0.7453478</td><td>0.7328459</td><td>0.7333264</td><td>0.7319073</td><td>0.7279481</td><td>0.7260245</td><td>0.7265621</td></tr>\n",
       "\t<tr><th scope=row>MCF_10A_UT_3</th><td>0.9923122</td><td>0.9920346</td><td>1.0000000</td><td>0.9744797</td><td>0.9737546</td><td>0.9753736</td><td>0.9677186</td><td>0.9673192</td><td>0.9652827</td><td>0.7430149</td><td>0.7433413</td><td>0.7445505</td><td>0.7315209</td><td>0.7323810</td><td>0.7308557</td><td>0.7257774</td><td>0.7247531</td><td>0.7247197</td></tr>\n",
       "\t<tr><th scope=row>MDA-MB-231_UT_1</th><td>0.9739217</td><td>0.9747804</td><td>0.9744797</td><td>1.0000000</td><td>0.9921687</td><td>0.9931877</td><td>0.9670129</td><td>0.9664409</td><td>0.9645914</td><td>0.7311505</td><td>0.7326140</td><td>0.7339661</td><td>0.7505102</td><td>0.7502115</td><td>0.7485364</td><td>0.7281648</td><td>0.7268208</td><td>0.7265649</td></tr>\n",
       "\t<tr><th scope=row>MDA-MB-231_UT_2</th><td>0.9738778</td><td>0.9751166</td><td>0.9737546</td><td>0.9921687</td><td>1.0000000</td><td>0.9929177</td><td>0.9682647</td><td>0.9677905</td><td>0.9662045</td><td>0.7291527</td><td>0.7300852</td><td>0.7316321</td><td>0.7473672</td><td>0.7478995</td><td>0.7468133</td><td>0.7267628</td><td>0.7252430</td><td>0.7255274</td></tr>\n",
       "\t<tr><th scope=row>MDA-MB-231_UT_3</th><td>0.9755847</td><td>0.9754499</td><td>0.9753736</td><td>0.9931877</td><td>0.9929177</td><td>1.0000000</td><td>0.9671839</td><td>0.9661019</td><td>0.9642387</td><td>0.7323079</td><td>0.7328441</td><td>0.7347901</td><td>0.7503025</td><td>0.7502817</td><td>0.7486575</td><td>0.7278256</td><td>0.7264011</td><td>0.7266064</td></tr>\n",
       "\t<tr><th scope=row>HCC_1937_UT_1</th><td>0.9667934</td><td>0.9666607</td><td>0.9677186</td><td>0.9670129</td><td>0.9682647</td><td>0.9671839</td><td>1.0000000</td><td>0.9928186</td><td>0.9939773</td><td>0.7236793</td><td>0.7244352</td><td>0.7264234</td><td>0.7270174</td><td>0.7284213</td><td>0.7263374</td><td>0.7496455</td><td>0.7471886</td><td>0.7480996</td></tr>\n",
       "\t<tr><th scope=row>HCC_1937_UT_2</th><td>0.9659531</td><td>0.9679201</td><td>0.9673192</td><td>0.9664409</td><td>0.9677905</td><td>0.9661019</td><td>0.9928186</td><td>1.0000000</td><td>0.9940841</td><td>0.7224542</td><td>0.7231848</td><td>0.7247569</td><td>0.7265836</td><td>0.7275494</td><td>0.7253453</td><td>0.7480043</td><td>0.7458685</td><td>0.7467078</td></tr>\n",
       "\t<tr><th scope=row>HCC_1937_UT_3</th><td>0.9641012</td><td>0.9651115</td><td>0.9652827</td><td>0.9645914</td><td>0.9662045</td><td>0.9642387</td><td>0.9939773</td><td>0.9940841</td><td>1.0000000</td><td>0.7222462</td><td>0.7231926</td><td>0.7246058</td><td>0.7263353</td><td>0.7277262</td><td>0.7254935</td><td>0.7486719</td><td>0.7463598</td><td>0.7472731</td></tr>\n",
       "\t<tr><th scope=row>MCF_10A_TR_1</th><td>0.7446495</td><td>0.7439419</td><td>0.7430149</td><td>0.7311505</td><td>0.7291527</td><td>0.7323079</td><td>0.7236793</td><td>0.7224542</td><td>0.7222462</td><td>1.0000000</td><td>0.9922338</td><td>0.9938560</td><td>0.9701257</td><td>0.9703636</td><td>0.9703053</td><td>0.9621339</td><td>0.9634076</td><td>0.9605950</td></tr>\n",
       "\t<tr><th scope=row>MCF_10A_TR_2</th><td>0.7448176</td><td>0.7445145</td><td>0.7433413</td><td>0.7326140</td><td>0.7300852</td><td>0.7328441</td><td>0.7244352</td><td>0.7231848</td><td>0.7231926</td><td>0.9922338</td><td>1.0000000</td><td>0.9918643</td><td>0.9687797</td><td>0.9694912</td><td>0.9698214</td><td>0.9597010</td><td>0.9611068</td><td>0.9591135</td></tr>\n",
       "\t<tr><th scope=row>MCF_10A_TR_3</th><td>0.7455561</td><td>0.7453478</td><td>0.7445505</td><td>0.7339661</td><td>0.7316321</td><td>0.7347901</td><td>0.7264234</td><td>0.7247569</td><td>0.7246058</td><td>0.9938560</td><td>0.9918643</td><td>1.0000000</td><td>0.9701625</td><td>0.9722617</td><td>0.9709506</td><td>0.9610614</td><td>0.9630801</td><td>0.9595733</td></tr>\n",
       "\t<tr><th scope=row>MDA-MB-231_TR_1</th><td>0.7324895</td><td>0.7328459</td><td>0.7315209</td><td>0.7505102</td><td>0.7473672</td><td>0.7503025</td><td>0.7270174</td><td>0.7265836</td><td>0.7263353</td><td>0.9701257</td><td>0.9687797</td><td>0.9701625</td><td>1.0000000</td><td>0.9920054</td><td>0.9913232</td><td>0.9604360</td><td>0.9629239</td><td>0.9587394</td></tr>\n",
       "\t<tr><th scope=row>MDA-MB-231_TR_2</th><td>0.7337182</td><td>0.7333264</td><td>0.7323810</td><td>0.7502115</td><td>0.7478995</td><td>0.7502817</td><td>0.7284213</td><td>0.7275494</td><td>0.7277262</td><td>0.9703636</td><td>0.9694912</td><td>0.9722617</td><td>0.9920054</td><td>1.0000000</td><td>0.9927683</td><td>0.9621605</td><td>0.9651473</td><td>0.9625993</td></tr>\n",
       "\t<tr><th scope=row>MDA-MB-231_TR_3</th><td>0.7329541</td><td>0.7319073</td><td>0.7308557</td><td>0.7485364</td><td>0.7468133</td><td>0.7486575</td><td>0.7263374</td><td>0.7253453</td><td>0.7254935</td><td>0.9703053</td><td>0.9698214</td><td>0.9709506</td><td>0.9913232</td><td>0.9927683</td><td>1.0000000</td><td>0.9635052</td><td>0.9650770</td><td>0.9626779</td></tr>\n",
       "\t<tr><th scope=row>HCC_1937_TR_1</th><td>0.7280044</td><td>0.7279481</td><td>0.7257774</td><td>0.7281648</td><td>0.7267628</td><td>0.7278256</td><td>0.7496455</td><td>0.7480043</td><td>0.7486719</td><td>0.9621339</td><td>0.9597010</td><td>0.9610614</td><td>0.9604360</td><td>0.9621605</td><td>0.9635052</td><td>1.0000000</td><td>0.9919756</td><td>0.9901762</td></tr>\n",
       "\t<tr><th scope=row>HCC_1937_TR_2</th><td>0.7264160</td><td>0.7260245</td><td>0.7247531</td><td>0.7268208</td><td>0.7252430</td><td>0.7264011</td><td>0.7471886</td><td>0.7458685</td><td>0.7463598</td><td>0.9634076</td><td>0.9611068</td><td>0.9630801</td><td>0.9629239</td><td>0.9651473</td><td>0.9650770</td><td>0.9919756</td><td>1.0000000</td><td>0.9908042</td></tr>\n",
       "\t<tr><th scope=row>HCC_1937_TR_3</th><td>0.7267321</td><td>0.7265621</td><td>0.7247197</td><td>0.7265649</td><td>0.7255274</td><td>0.7266064</td><td>0.7480996</td><td>0.7467078</td><td>0.7472731</td><td>0.9605950</td><td>0.9591135</td><td>0.9595733</td><td>0.9587394</td><td>0.9625993</td><td>0.9626779</td><td>0.9901762</td><td>0.9908042</td><td>1.0000000</td></tr>\n",
       "</tbody>\n",
       "</table>\n"
      ],
      "text/latex": [
       "A matrix: 18 × 18 of type dbl\n",
       "\\begin{tabular}{r|llllllllllllllllll}\n",
       "  & MCF\\_10A\\_UT\\_1 & MCF\\_10A\\_UT\\_2 & MCF\\_10A\\_UT\\_3 & MDA-MB-231\\_UT\\_1 & MDA-MB-231\\_UT\\_2 & MDA-MB-231\\_UT\\_3 & HCC\\_1937\\_UT\\_1 & HCC\\_1937\\_UT\\_2 & HCC\\_1937\\_UT\\_3 & MCF\\_10A\\_TR\\_1 & MCF\\_10A\\_TR\\_2 & MCF\\_10A\\_TR\\_3 & MDA-MB-231\\_TR\\_1 & MDA-MB-231\\_TR\\_2 & MDA-MB-231\\_TR\\_3 & HCC\\_1937\\_TR\\_1 & HCC\\_1937\\_TR\\_2 & HCC\\_1937\\_TR\\_3\\\\\n",
       "\\hline\n",
       "\tMCF\\_10A\\_UT\\_1 & 1.0000000 & 0.9916503 & 0.9923122 & 0.9739217 & 0.9738778 & 0.9755847 & 0.9667934 & 0.9659531 & 0.9641012 & 0.7446495 & 0.7448176 & 0.7455561 & 0.7324895 & 0.7337182 & 0.7329541 & 0.7280044 & 0.7264160 & 0.7267321\\\\\n",
       "\tMCF\\_10A\\_UT\\_2 & 0.9916503 & 1.0000000 & 0.9920346 & 0.9747804 & 0.9751166 & 0.9754499 & 0.9666607 & 0.9679201 & 0.9651115 & 0.7439419 & 0.7445145 & 0.7453478 & 0.7328459 & 0.7333264 & 0.7319073 & 0.7279481 & 0.7260245 & 0.7265621\\\\\n",
       "\tMCF\\_10A\\_UT\\_3 & 0.9923122 & 0.9920346 & 1.0000000 & 0.9744797 & 0.9737546 & 0.9753736 & 0.9677186 & 0.9673192 & 0.9652827 & 0.7430149 & 0.7433413 & 0.7445505 & 0.7315209 & 0.7323810 & 0.7308557 & 0.7257774 & 0.7247531 & 0.7247197\\\\\n",
       "\tMDA-MB-231\\_UT\\_1 & 0.9739217 & 0.9747804 & 0.9744797 & 1.0000000 & 0.9921687 & 0.9931877 & 0.9670129 & 0.9664409 & 0.9645914 & 0.7311505 & 0.7326140 & 0.7339661 & 0.7505102 & 0.7502115 & 0.7485364 & 0.7281648 & 0.7268208 & 0.7265649\\\\\n",
       "\tMDA-MB-231\\_UT\\_2 & 0.9738778 & 0.9751166 & 0.9737546 & 0.9921687 & 1.0000000 & 0.9929177 & 0.9682647 & 0.9677905 & 0.9662045 & 0.7291527 & 0.7300852 & 0.7316321 & 0.7473672 & 0.7478995 & 0.7468133 & 0.7267628 & 0.7252430 & 0.7255274\\\\\n",
       "\tMDA-MB-231\\_UT\\_3 & 0.9755847 & 0.9754499 & 0.9753736 & 0.9931877 & 0.9929177 & 1.0000000 & 0.9671839 & 0.9661019 & 0.9642387 & 0.7323079 & 0.7328441 & 0.7347901 & 0.7503025 & 0.7502817 & 0.7486575 & 0.7278256 & 0.7264011 & 0.7266064\\\\\n",
       "\tHCC\\_1937\\_UT\\_1 & 0.9667934 & 0.9666607 & 0.9677186 & 0.9670129 & 0.9682647 & 0.9671839 & 1.0000000 & 0.9928186 & 0.9939773 & 0.7236793 & 0.7244352 & 0.7264234 & 0.7270174 & 0.7284213 & 0.7263374 & 0.7496455 & 0.7471886 & 0.7480996\\\\\n",
       "\tHCC\\_1937\\_UT\\_2 & 0.9659531 & 0.9679201 & 0.9673192 & 0.9664409 & 0.9677905 & 0.9661019 & 0.9928186 & 1.0000000 & 0.9940841 & 0.7224542 & 0.7231848 & 0.7247569 & 0.7265836 & 0.7275494 & 0.7253453 & 0.7480043 & 0.7458685 & 0.7467078\\\\\n",
       "\tHCC\\_1937\\_UT\\_3 & 0.9641012 & 0.9651115 & 0.9652827 & 0.9645914 & 0.9662045 & 0.9642387 & 0.9939773 & 0.9940841 & 1.0000000 & 0.7222462 & 0.7231926 & 0.7246058 & 0.7263353 & 0.7277262 & 0.7254935 & 0.7486719 & 0.7463598 & 0.7472731\\\\\n",
       "\tMCF\\_10A\\_TR\\_1 & 0.7446495 & 0.7439419 & 0.7430149 & 0.7311505 & 0.7291527 & 0.7323079 & 0.7236793 & 0.7224542 & 0.7222462 & 1.0000000 & 0.9922338 & 0.9938560 & 0.9701257 & 0.9703636 & 0.9703053 & 0.9621339 & 0.9634076 & 0.9605950\\\\\n",
       "\tMCF\\_10A\\_TR\\_2 & 0.7448176 & 0.7445145 & 0.7433413 & 0.7326140 & 0.7300852 & 0.7328441 & 0.7244352 & 0.7231848 & 0.7231926 & 0.9922338 & 1.0000000 & 0.9918643 & 0.9687797 & 0.9694912 & 0.9698214 & 0.9597010 & 0.9611068 & 0.9591135\\\\\n",
       "\tMCF\\_10A\\_TR\\_3 & 0.7455561 & 0.7453478 & 0.7445505 & 0.7339661 & 0.7316321 & 0.7347901 & 0.7264234 & 0.7247569 & 0.7246058 & 0.9938560 & 0.9918643 & 1.0000000 & 0.9701625 & 0.9722617 & 0.9709506 & 0.9610614 & 0.9630801 & 0.9595733\\\\\n",
       "\tMDA-MB-231\\_TR\\_1 & 0.7324895 & 0.7328459 & 0.7315209 & 0.7505102 & 0.7473672 & 0.7503025 & 0.7270174 & 0.7265836 & 0.7263353 & 0.9701257 & 0.9687797 & 0.9701625 & 1.0000000 & 0.9920054 & 0.9913232 & 0.9604360 & 0.9629239 & 0.9587394\\\\\n",
       "\tMDA-MB-231\\_TR\\_2 & 0.7337182 & 0.7333264 & 0.7323810 & 0.7502115 & 0.7478995 & 0.7502817 & 0.7284213 & 0.7275494 & 0.7277262 & 0.9703636 & 0.9694912 & 0.9722617 & 0.9920054 & 1.0000000 & 0.9927683 & 0.9621605 & 0.9651473 & 0.9625993\\\\\n",
       "\tMDA-MB-231\\_TR\\_3 & 0.7329541 & 0.7319073 & 0.7308557 & 0.7485364 & 0.7468133 & 0.7486575 & 0.7263374 & 0.7253453 & 0.7254935 & 0.9703053 & 0.9698214 & 0.9709506 & 0.9913232 & 0.9927683 & 1.0000000 & 0.9635052 & 0.9650770 & 0.9626779\\\\\n",
       "\tHCC\\_1937\\_TR\\_1 & 0.7280044 & 0.7279481 & 0.7257774 & 0.7281648 & 0.7267628 & 0.7278256 & 0.7496455 & 0.7480043 & 0.7486719 & 0.9621339 & 0.9597010 & 0.9610614 & 0.9604360 & 0.9621605 & 0.9635052 & 1.0000000 & 0.9919756 & 0.9901762\\\\\n",
       "\tHCC\\_1937\\_TR\\_2 & 0.7264160 & 0.7260245 & 0.7247531 & 0.7268208 & 0.7252430 & 0.7264011 & 0.7471886 & 0.7458685 & 0.7463598 & 0.9634076 & 0.9611068 & 0.9630801 & 0.9629239 & 0.9651473 & 0.9650770 & 0.9919756 & 1.0000000 & 0.9908042\\\\\n",
       "\tHCC\\_1937\\_TR\\_3 & 0.7267321 & 0.7265621 & 0.7247197 & 0.7265649 & 0.7255274 & 0.7266064 & 0.7480996 & 0.7467078 & 0.7472731 & 0.9605950 & 0.9591135 & 0.9595733 & 0.9587394 & 0.9625993 & 0.9626779 & 0.9901762 & 0.9908042 & 1.0000000\\\\\n",
       "\\end{tabular}\n"
      ],
      "text/markdown": [
       "\n",
       "A matrix: 18 × 18 of type dbl\n",
       "\n",
       "| <!--/--> | MCF_10A_UT_1 | MCF_10A_UT_2 | MCF_10A_UT_3 | MDA-MB-231_UT_1 | MDA-MB-231_UT_2 | MDA-MB-231_UT_3 | HCC_1937_UT_1 | HCC_1937_UT_2 | HCC_1937_UT_3 | MCF_10A_TR_1 | MCF_10A_TR_2 | MCF_10A_TR_3 | MDA-MB-231_TR_1 | MDA-MB-231_TR_2 | MDA-MB-231_TR_3 | HCC_1937_TR_1 | HCC_1937_TR_2 | HCC_1937_TR_3 |\n",
       "|---|---|---|---|---|---|---|---|---|---|---|---|---|---|---|---|---|---|---|\n",
       "| MCF_10A_UT_1 | 1.0000000 | 0.9916503 | 0.9923122 | 0.9739217 | 0.9738778 | 0.9755847 | 0.9667934 | 0.9659531 | 0.9641012 | 0.7446495 | 0.7448176 | 0.7455561 | 0.7324895 | 0.7337182 | 0.7329541 | 0.7280044 | 0.7264160 | 0.7267321 |\n",
       "| MCF_10A_UT_2 | 0.9916503 | 1.0000000 | 0.9920346 | 0.9747804 | 0.9751166 | 0.9754499 | 0.9666607 | 0.9679201 | 0.9651115 | 0.7439419 | 0.7445145 | 0.7453478 | 0.7328459 | 0.7333264 | 0.7319073 | 0.7279481 | 0.7260245 | 0.7265621 |\n",
       "| MCF_10A_UT_3 | 0.9923122 | 0.9920346 | 1.0000000 | 0.9744797 | 0.9737546 | 0.9753736 | 0.9677186 | 0.9673192 | 0.9652827 | 0.7430149 | 0.7433413 | 0.7445505 | 0.7315209 | 0.7323810 | 0.7308557 | 0.7257774 | 0.7247531 | 0.7247197 |\n",
       "| MDA-MB-231_UT_1 | 0.9739217 | 0.9747804 | 0.9744797 | 1.0000000 | 0.9921687 | 0.9931877 | 0.9670129 | 0.9664409 | 0.9645914 | 0.7311505 | 0.7326140 | 0.7339661 | 0.7505102 | 0.7502115 | 0.7485364 | 0.7281648 | 0.7268208 | 0.7265649 |\n",
       "| MDA-MB-231_UT_2 | 0.9738778 | 0.9751166 | 0.9737546 | 0.9921687 | 1.0000000 | 0.9929177 | 0.9682647 | 0.9677905 | 0.9662045 | 0.7291527 | 0.7300852 | 0.7316321 | 0.7473672 | 0.7478995 | 0.7468133 | 0.7267628 | 0.7252430 | 0.7255274 |\n",
       "| MDA-MB-231_UT_3 | 0.9755847 | 0.9754499 | 0.9753736 | 0.9931877 | 0.9929177 | 1.0000000 | 0.9671839 | 0.9661019 | 0.9642387 | 0.7323079 | 0.7328441 | 0.7347901 | 0.7503025 | 0.7502817 | 0.7486575 | 0.7278256 | 0.7264011 | 0.7266064 |\n",
       "| HCC_1937_UT_1 | 0.9667934 | 0.9666607 | 0.9677186 | 0.9670129 | 0.9682647 | 0.9671839 | 1.0000000 | 0.9928186 | 0.9939773 | 0.7236793 | 0.7244352 | 0.7264234 | 0.7270174 | 0.7284213 | 0.7263374 | 0.7496455 | 0.7471886 | 0.7480996 |\n",
       "| HCC_1937_UT_2 | 0.9659531 | 0.9679201 | 0.9673192 | 0.9664409 | 0.9677905 | 0.9661019 | 0.9928186 | 1.0000000 | 0.9940841 | 0.7224542 | 0.7231848 | 0.7247569 | 0.7265836 | 0.7275494 | 0.7253453 | 0.7480043 | 0.7458685 | 0.7467078 |\n",
       "| HCC_1937_UT_3 | 0.9641012 | 0.9651115 | 0.9652827 | 0.9645914 | 0.9662045 | 0.9642387 | 0.9939773 | 0.9940841 | 1.0000000 | 0.7222462 | 0.7231926 | 0.7246058 | 0.7263353 | 0.7277262 | 0.7254935 | 0.7486719 | 0.7463598 | 0.7472731 |\n",
       "| MCF_10A_TR_1 | 0.7446495 | 0.7439419 | 0.7430149 | 0.7311505 | 0.7291527 | 0.7323079 | 0.7236793 | 0.7224542 | 0.7222462 | 1.0000000 | 0.9922338 | 0.9938560 | 0.9701257 | 0.9703636 | 0.9703053 | 0.9621339 | 0.9634076 | 0.9605950 |\n",
       "| MCF_10A_TR_2 | 0.7448176 | 0.7445145 | 0.7433413 | 0.7326140 | 0.7300852 | 0.7328441 | 0.7244352 | 0.7231848 | 0.7231926 | 0.9922338 | 1.0000000 | 0.9918643 | 0.9687797 | 0.9694912 | 0.9698214 | 0.9597010 | 0.9611068 | 0.9591135 |\n",
       "| MCF_10A_TR_3 | 0.7455561 | 0.7453478 | 0.7445505 | 0.7339661 | 0.7316321 | 0.7347901 | 0.7264234 | 0.7247569 | 0.7246058 | 0.9938560 | 0.9918643 | 1.0000000 | 0.9701625 | 0.9722617 | 0.9709506 | 0.9610614 | 0.9630801 | 0.9595733 |\n",
       "| MDA-MB-231_TR_1 | 0.7324895 | 0.7328459 | 0.7315209 | 0.7505102 | 0.7473672 | 0.7503025 | 0.7270174 | 0.7265836 | 0.7263353 | 0.9701257 | 0.9687797 | 0.9701625 | 1.0000000 | 0.9920054 | 0.9913232 | 0.9604360 | 0.9629239 | 0.9587394 |\n",
       "| MDA-MB-231_TR_2 | 0.7337182 | 0.7333264 | 0.7323810 | 0.7502115 | 0.7478995 | 0.7502817 | 0.7284213 | 0.7275494 | 0.7277262 | 0.9703636 | 0.9694912 | 0.9722617 | 0.9920054 | 1.0000000 | 0.9927683 | 0.9621605 | 0.9651473 | 0.9625993 |\n",
       "| MDA-MB-231_TR_3 | 0.7329541 | 0.7319073 | 0.7308557 | 0.7485364 | 0.7468133 | 0.7486575 | 0.7263374 | 0.7253453 | 0.7254935 | 0.9703053 | 0.9698214 | 0.9709506 | 0.9913232 | 0.9927683 | 1.0000000 | 0.9635052 | 0.9650770 | 0.9626779 |\n",
       "| HCC_1937_TR_1 | 0.7280044 | 0.7279481 | 0.7257774 | 0.7281648 | 0.7267628 | 0.7278256 | 0.7496455 | 0.7480043 | 0.7486719 | 0.9621339 | 0.9597010 | 0.9610614 | 0.9604360 | 0.9621605 | 0.9635052 | 1.0000000 | 0.9919756 | 0.9901762 |\n",
       "| HCC_1937_TR_2 | 0.7264160 | 0.7260245 | 0.7247531 | 0.7268208 | 0.7252430 | 0.7264011 | 0.7471886 | 0.7458685 | 0.7463598 | 0.9634076 | 0.9611068 | 0.9630801 | 0.9629239 | 0.9651473 | 0.9650770 | 0.9919756 | 1.0000000 | 0.9908042 |\n",
       "| HCC_1937_TR_3 | 0.7267321 | 0.7265621 | 0.7247197 | 0.7265649 | 0.7255274 | 0.7266064 | 0.7480996 | 0.7467078 | 0.7472731 | 0.9605950 | 0.9591135 | 0.9595733 | 0.9587394 | 0.9625993 | 0.9626779 | 0.9901762 | 0.9908042 | 1.0000000 |\n",
       "\n"
      ],
      "text/plain": [
       "                MCF_10A_UT_1 MCF_10A_UT_2 MCF_10A_UT_3 MDA-MB-231_UT_1\n",
       "MCF_10A_UT_1    1.0000000    0.9916503    0.9923122    0.9739217      \n",
       "MCF_10A_UT_2    0.9916503    1.0000000    0.9920346    0.9747804      \n",
       "MCF_10A_UT_3    0.9923122    0.9920346    1.0000000    0.9744797      \n",
       "MDA-MB-231_UT_1 0.9739217    0.9747804    0.9744797    1.0000000      \n",
       "MDA-MB-231_UT_2 0.9738778    0.9751166    0.9737546    0.9921687      \n",
       "MDA-MB-231_UT_3 0.9755847    0.9754499    0.9753736    0.9931877      \n",
       "HCC_1937_UT_1   0.9667934    0.9666607    0.9677186    0.9670129      \n",
       "HCC_1937_UT_2   0.9659531    0.9679201    0.9673192    0.9664409      \n",
       "HCC_1937_UT_3   0.9641012    0.9651115    0.9652827    0.9645914      \n",
       "MCF_10A_TR_1    0.7446495    0.7439419    0.7430149    0.7311505      \n",
       "MCF_10A_TR_2    0.7448176    0.7445145    0.7433413    0.7326140      \n",
       "MCF_10A_TR_3    0.7455561    0.7453478    0.7445505    0.7339661      \n",
       "MDA-MB-231_TR_1 0.7324895    0.7328459    0.7315209    0.7505102      \n",
       "MDA-MB-231_TR_2 0.7337182    0.7333264    0.7323810    0.7502115      \n",
       "MDA-MB-231_TR_3 0.7329541    0.7319073    0.7308557    0.7485364      \n",
       "HCC_1937_TR_1   0.7280044    0.7279481    0.7257774    0.7281648      \n",
       "HCC_1937_TR_2   0.7264160    0.7260245    0.7247531    0.7268208      \n",
       "HCC_1937_TR_3   0.7267321    0.7265621    0.7247197    0.7265649      \n",
       "                MDA-MB-231_UT_2 MDA-MB-231_UT_3 HCC_1937_UT_1 HCC_1937_UT_2\n",
       "MCF_10A_UT_1    0.9738778       0.9755847       0.9667934     0.9659531    \n",
       "MCF_10A_UT_2    0.9751166       0.9754499       0.9666607     0.9679201    \n",
       "MCF_10A_UT_3    0.9737546       0.9753736       0.9677186     0.9673192    \n",
       "MDA-MB-231_UT_1 0.9921687       0.9931877       0.9670129     0.9664409    \n",
       "MDA-MB-231_UT_2 1.0000000       0.9929177       0.9682647     0.9677905    \n",
       "MDA-MB-231_UT_3 0.9929177       1.0000000       0.9671839     0.9661019    \n",
       "HCC_1937_UT_1   0.9682647       0.9671839       1.0000000     0.9928186    \n",
       "HCC_1937_UT_2   0.9677905       0.9661019       0.9928186     1.0000000    \n",
       "HCC_1937_UT_3   0.9662045       0.9642387       0.9939773     0.9940841    \n",
       "MCF_10A_TR_1    0.7291527       0.7323079       0.7236793     0.7224542    \n",
       "MCF_10A_TR_2    0.7300852       0.7328441       0.7244352     0.7231848    \n",
       "MCF_10A_TR_3    0.7316321       0.7347901       0.7264234     0.7247569    \n",
       "MDA-MB-231_TR_1 0.7473672       0.7503025       0.7270174     0.7265836    \n",
       "MDA-MB-231_TR_2 0.7478995       0.7502817       0.7284213     0.7275494    \n",
       "MDA-MB-231_TR_3 0.7468133       0.7486575       0.7263374     0.7253453    \n",
       "HCC_1937_TR_1   0.7267628       0.7278256       0.7496455     0.7480043    \n",
       "HCC_1937_TR_2   0.7252430       0.7264011       0.7471886     0.7458685    \n",
       "HCC_1937_TR_3   0.7255274       0.7266064       0.7480996     0.7467078    \n",
       "                HCC_1937_UT_3 MCF_10A_TR_1 MCF_10A_TR_2 MCF_10A_TR_3\n",
       "MCF_10A_UT_1    0.9641012     0.7446495    0.7448176    0.7455561   \n",
       "MCF_10A_UT_2    0.9651115     0.7439419    0.7445145    0.7453478   \n",
       "MCF_10A_UT_3    0.9652827     0.7430149    0.7433413    0.7445505   \n",
       "MDA-MB-231_UT_1 0.9645914     0.7311505    0.7326140    0.7339661   \n",
       "MDA-MB-231_UT_2 0.9662045     0.7291527    0.7300852    0.7316321   \n",
       "MDA-MB-231_UT_3 0.9642387     0.7323079    0.7328441    0.7347901   \n",
       "HCC_1937_UT_1   0.9939773     0.7236793    0.7244352    0.7264234   \n",
       "HCC_1937_UT_2   0.9940841     0.7224542    0.7231848    0.7247569   \n",
       "HCC_1937_UT_3   1.0000000     0.7222462    0.7231926    0.7246058   \n",
       "MCF_10A_TR_1    0.7222462     1.0000000    0.9922338    0.9938560   \n",
       "MCF_10A_TR_2    0.7231926     0.9922338    1.0000000    0.9918643   \n",
       "MCF_10A_TR_3    0.7246058     0.9938560    0.9918643    1.0000000   \n",
       "MDA-MB-231_TR_1 0.7263353     0.9701257    0.9687797    0.9701625   \n",
       "MDA-MB-231_TR_2 0.7277262     0.9703636    0.9694912    0.9722617   \n",
       "MDA-MB-231_TR_3 0.7254935     0.9703053    0.9698214    0.9709506   \n",
       "HCC_1937_TR_1   0.7486719     0.9621339    0.9597010    0.9610614   \n",
       "HCC_1937_TR_2   0.7463598     0.9634076    0.9611068    0.9630801   \n",
       "HCC_1937_TR_3   0.7472731     0.9605950    0.9591135    0.9595733   \n",
       "                MDA-MB-231_TR_1 MDA-MB-231_TR_2 MDA-MB-231_TR_3 HCC_1937_TR_1\n",
       "MCF_10A_UT_1    0.7324895       0.7337182       0.7329541       0.7280044    \n",
       "MCF_10A_UT_2    0.7328459       0.7333264       0.7319073       0.7279481    \n",
       "MCF_10A_UT_3    0.7315209       0.7323810       0.7308557       0.7257774    \n",
       "MDA-MB-231_UT_1 0.7505102       0.7502115       0.7485364       0.7281648    \n",
       "MDA-MB-231_UT_2 0.7473672       0.7478995       0.7468133       0.7267628    \n",
       "MDA-MB-231_UT_3 0.7503025       0.7502817       0.7486575       0.7278256    \n",
       "HCC_1937_UT_1   0.7270174       0.7284213       0.7263374       0.7496455    \n",
       "HCC_1937_UT_2   0.7265836       0.7275494       0.7253453       0.7480043    \n",
       "HCC_1937_UT_3   0.7263353       0.7277262       0.7254935       0.7486719    \n",
       "MCF_10A_TR_1    0.9701257       0.9703636       0.9703053       0.9621339    \n",
       "MCF_10A_TR_2    0.9687797       0.9694912       0.9698214       0.9597010    \n",
       "MCF_10A_TR_3    0.9701625       0.9722617       0.9709506       0.9610614    \n",
       "MDA-MB-231_TR_1 1.0000000       0.9920054       0.9913232       0.9604360    \n",
       "MDA-MB-231_TR_2 0.9920054       1.0000000       0.9927683       0.9621605    \n",
       "MDA-MB-231_TR_3 0.9913232       0.9927683       1.0000000       0.9635052    \n",
       "HCC_1937_TR_1   0.9604360       0.9621605       0.9635052       1.0000000    \n",
       "HCC_1937_TR_2   0.9629239       0.9651473       0.9650770       0.9919756    \n",
       "HCC_1937_TR_3   0.9587394       0.9625993       0.9626779       0.9901762    \n",
       "                HCC_1937_TR_2 HCC_1937_TR_3\n",
       "MCF_10A_UT_1    0.7264160     0.7267321    \n",
       "MCF_10A_UT_2    0.7260245     0.7265621    \n",
       "MCF_10A_UT_3    0.7247531     0.7247197    \n",
       "MDA-MB-231_UT_1 0.7268208     0.7265649    \n",
       "MDA-MB-231_UT_2 0.7252430     0.7255274    \n",
       "MDA-MB-231_UT_3 0.7264011     0.7266064    \n",
       "HCC_1937_UT_1   0.7471886     0.7480996    \n",
       "HCC_1937_UT_2   0.7458685     0.7467078    \n",
       "HCC_1937_UT_3   0.7463598     0.7472731    \n",
       "MCF_10A_TR_1    0.9634076     0.9605950    \n",
       "MCF_10A_TR_2    0.9611068     0.9591135    \n",
       "MCF_10A_TR_3    0.9630801     0.9595733    \n",
       "MDA-MB-231_TR_1 0.9629239     0.9587394    \n",
       "MDA-MB-231_TR_2 0.9651473     0.9625993    \n",
       "MDA-MB-231_TR_3 0.9650770     0.9626779    \n",
       "HCC_1937_TR_1   0.9919756     0.9901762    \n",
       "HCC_1937_TR_2   1.0000000     0.9908042    \n",
       "HCC_1937_TR_3   0.9908042     1.0000000    "
      ]
     },
     "metadata": {},
     "output_type": "display_data"
    },
    {
     "data": {
      "text/html": [
       "<table class=\"dataframe\">\n",
       "<caption>A matrix: 18 × 18 of type dbl</caption>\n",
       "<thead>\n",
       "\t<tr><th></th><th scope=col>MCF_10A_UT_1</th><th scope=col>MCF_10A_UT_2</th><th scope=col>MCF_10A_UT_3</th><th scope=col>MDA-MB-231_UT_1</th><th scope=col>MDA-MB-231_UT_2</th><th scope=col>MDA-MB-231_UT_3</th><th scope=col>HCC_1937_UT_1</th><th scope=col>HCC_1937_UT_2</th><th scope=col>HCC_1937_UT_3</th><th scope=col>MCF_10A_TR_1</th><th scope=col>MCF_10A_TR_2</th><th scope=col>MCF_10A_TR_3</th><th scope=col>MDA-MB-231_TR_1</th><th scope=col>MDA-MB-231_TR_2</th><th scope=col>MDA-MB-231_TR_3</th><th scope=col>HCC_1937_TR_1</th><th scope=col>HCC_1937_TR_2</th><th scope=col>HCC_1937_TR_3</th></tr>\n",
       "</thead>\n",
       "<tbody>\n",
       "\t<tr><th scope=row>MCF_10A_UT_1</th><td>1.0000000</td><td>0.9986845</td><td>0.9992097</td><td>0.9649922</td><td>0.9658016</td><td>0.9656314</td><td>0.9492582</td><td>0.9503901</td><td>0.9490995</td><td>0.9500230</td><td>0.9499292</td><td>0.9501144</td><td>0.9181036</td><td>0.9178460</td><td>0.9180701</td><td>0.9026675</td><td>0.9044244</td><td>0.9030061</td></tr>\n",
       "\t<tr><th scope=row>MCF_10A_UT_2</th><td>0.9986845</td><td>1.0000000</td><td>0.9987651</td><td>0.9646778</td><td>0.9654466</td><td>0.9652943</td><td>0.9481662</td><td>0.9502446</td><td>0.9486082</td><td>0.9496520</td><td>0.9495398</td><td>0.9497576</td><td>0.9185710</td><td>0.9181542</td><td>0.9177218</td><td>0.9019722</td><td>0.9040500</td><td>0.9021807</td></tr>\n",
       "\t<tr><th scope=row>MCF_10A_UT_3</th><td>0.9992097</td><td>0.9987651</td><td>1.0000000</td><td>0.9650855</td><td>0.9657703</td><td>0.9656633</td><td>0.9494264</td><td>0.9508393</td><td>0.9494412</td><td>0.9501546</td><td>0.9501999</td><td>0.9502688</td><td>0.9187386</td><td>0.9182989</td><td>0.9184224</td><td>0.9032745</td><td>0.9049385</td><td>0.9036529</td></tr>\n",
       "\t<tr><th scope=row>MDA-MB-231_UT_1</th><td>0.9649922</td><td>0.9646778</td><td>0.9650855</td><td>1.0000000</td><td>0.9988688</td><td>0.9990008</td><td>0.9489834</td><td>0.9514096</td><td>0.9508699</td><td>0.9204158</td><td>0.9204996</td><td>0.9213178</td><td>0.9520078</td><td>0.9514536</td><td>0.9511804</td><td>0.9041399</td><td>0.9073411</td><td>0.9063620</td></tr>\n",
       "\t<tr><th scope=row>MDA-MB-231_UT_2</th><td>0.9658016</td><td>0.9654466</td><td>0.9657703</td><td>0.9988688</td><td>1.0000000</td><td>0.9991126</td><td>0.9503319</td><td>0.9523860</td><td>0.9521119</td><td>0.9209467</td><td>0.9208235</td><td>0.9217332</td><td>0.9514749</td><td>0.9514009</td><td>0.9511416</td><td>0.9046982</td><td>0.9075181</td><td>0.9068976</td></tr>\n",
       "\t<tr><th scope=row>MDA-MB-231_UT_3</th><td>0.9656314</td><td>0.9652943</td><td>0.9656633</td><td>0.9990008</td><td>0.9991126</td><td>1.0000000</td><td>0.9470699</td><td>0.9492976</td><td>0.9488557</td><td>0.9212575</td><td>0.9212330</td><td>0.9221411</td><td>0.9522266</td><td>0.9516373</td><td>0.9518587</td><td>0.9023146</td><td>0.9050802</td><td>0.9045200</td></tr>\n",
       "\t<tr><th scope=row>HCC_1937_UT_1</th><td>0.9492582</td><td>0.9481662</td><td>0.9494264</td><td>0.9489834</td><td>0.9503319</td><td>0.9470699</td><td>1.0000000</td><td>0.9990818</td><td>0.9992402</td><td>0.9040956</td><td>0.9038150</td><td>0.9045563</td><td>0.9040787</td><td>0.9036684</td><td>0.9018298</td><td>0.9515423</td><td>0.9508051</td><td>0.9512196</td></tr>\n",
       "\t<tr><th scope=row>HCC_1937_UT_2</th><td>0.9503901</td><td>0.9502446</td><td>0.9508393</td><td>0.9514096</td><td>0.9523860</td><td>0.9492976</td><td>0.9990818</td><td>1.0000000</td><td>0.9993355</td><td>0.9055892</td><td>0.9053321</td><td>0.9060740</td><td>0.9070534</td><td>0.9063839</td><td>0.9042297</td><td>0.9517045</td><td>0.9514443</td><td>0.9514588</td></tr>\n",
       "\t<tr><th scope=row>HCC_1937_UT_3</th><td>0.9490995</td><td>0.9486082</td><td>0.9494412</td><td>0.9508699</td><td>0.9521119</td><td>0.9488557</td><td>0.9992402</td><td>0.9993355</td><td>1.0000000</td><td>0.9041162</td><td>0.9037301</td><td>0.9046215</td><td>0.9061828</td><td>0.9056335</td><td>0.9035192</td><td>0.9514129</td><td>0.9509195</td><td>0.9511721</td></tr>\n",
       "\t<tr><th scope=row>MCF_10A_TR_1</th><td>0.9500230</td><td>0.9496520</td><td>0.9501546</td><td>0.9204158</td><td>0.9209467</td><td>0.9212575</td><td>0.9040956</td><td>0.9055892</td><td>0.9041162</td><td>1.0000000</td><td>0.9993610</td><td>0.9995194</td><td>0.9647632</td><td>0.9648777</td><td>0.9653084</td><td>0.9474869</td><td>0.9493805</td><td>0.9479757</td></tr>\n",
       "\t<tr><th scope=row>MCF_10A_TR_2</th><td>0.9499292</td><td>0.9495398</td><td>0.9501999</td><td>0.9204996</td><td>0.9208235</td><td>0.9212330</td><td>0.9038150</td><td>0.9053321</td><td>0.9037301</td><td>0.9993610</td><td>1.0000000</td><td>0.9991877</td><td>0.9646425</td><td>0.9645767</td><td>0.9653152</td><td>0.9470470</td><td>0.9488273</td><td>0.9476584</td></tr>\n",
       "\t<tr><th scope=row>MCF_10A_TR_3</th><td>0.9501144</td><td>0.9497576</td><td>0.9502688</td><td>0.9213178</td><td>0.9217332</td><td>0.9221411</td><td>0.9045563</td><td>0.9060740</td><td>0.9046215</td><td>0.9995194</td><td>0.9991877</td><td>1.0000000</td><td>0.9655759</td><td>0.9655396</td><td>0.9661309</td><td>0.9478250</td><td>0.9496787</td><td>0.9483813</td></tr>\n",
       "\t<tr><th scope=row>MDA-MB-231_TR_1</th><td>0.9181036</td><td>0.9185710</td><td>0.9187386</td><td>0.9520078</td><td>0.9514749</td><td>0.9522266</td><td>0.9040787</td><td>0.9070534</td><td>0.9061828</td><td>0.9647632</td><td>0.9646425</td><td>0.9655759</td><td>1.0000000</td><td>0.9987229</td><td>0.9987041</td><td>0.9476072</td><td>0.9508911</td><td>0.9500997</td></tr>\n",
       "\t<tr><th scope=row>MDA-MB-231_TR_2</th><td>0.9178460</td><td>0.9181542</td><td>0.9182989</td><td>0.9514536</td><td>0.9514009</td><td>0.9516373</td><td>0.9036684</td><td>0.9063839</td><td>0.9056335</td><td>0.9648777</td><td>0.9645767</td><td>0.9655396</td><td>0.9987229</td><td>1.0000000</td><td>0.9988026</td><td>0.9474561</td><td>0.9513512</td><td>0.9500585</td></tr>\n",
       "\t<tr><th scope=row>MDA-MB-231_TR_3</th><td>0.9180701</td><td>0.9177218</td><td>0.9184224</td><td>0.9511804</td><td>0.9511416</td><td>0.9518587</td><td>0.9018298</td><td>0.9042297</td><td>0.9035192</td><td>0.9653084</td><td>0.9653152</td><td>0.9661309</td><td>0.9987041</td><td>0.9988026</td><td>1.0000000</td><td>0.9459058</td><td>0.9490104</td><td>0.9487180</td></tr>\n",
       "\t<tr><th scope=row>HCC_1937_TR_1</th><td>0.9026675</td><td>0.9019722</td><td>0.9032745</td><td>0.9041399</td><td>0.9046982</td><td>0.9023146</td><td>0.9515423</td><td>0.9517045</td><td>0.9514129</td><td>0.9474869</td><td>0.9470470</td><td>0.9478250</td><td>0.9476072</td><td>0.9474561</td><td>0.9459058</td><td>1.0000000</td><td>0.9984996</td><td>0.9992356</td></tr>\n",
       "\t<tr><th scope=row>HCC_1937_TR_2</th><td>0.9044244</td><td>0.9040500</td><td>0.9049385</td><td>0.9073411</td><td>0.9075181</td><td>0.9050802</td><td>0.9508051</td><td>0.9514443</td><td>0.9509195</td><td>0.9493805</td><td>0.9488273</td><td>0.9496787</td><td>0.9508911</td><td>0.9513512</td><td>0.9490104</td><td>0.9984996</td><td>1.0000000</td><td>0.9985106</td></tr>\n",
       "\t<tr><th scope=row>HCC_1937_TR_3</th><td>0.9030061</td><td>0.9021807</td><td>0.9036529</td><td>0.9063620</td><td>0.9068976</td><td>0.9045200</td><td>0.9512196</td><td>0.9514588</td><td>0.9511721</td><td>0.9479757</td><td>0.9476584</td><td>0.9483813</td><td>0.9500997</td><td>0.9500585</td><td>0.9487180</td><td>0.9992356</td><td>0.9985106</td><td>1.0000000</td></tr>\n",
       "</tbody>\n",
       "</table>\n"
      ],
      "text/latex": [
       "A matrix: 18 × 18 of type dbl\n",
       "\\begin{tabular}{r|llllllllllllllllll}\n",
       "  & MCF\\_10A\\_UT\\_1 & MCF\\_10A\\_UT\\_2 & MCF\\_10A\\_UT\\_3 & MDA-MB-231\\_UT\\_1 & MDA-MB-231\\_UT\\_2 & MDA-MB-231\\_UT\\_3 & HCC\\_1937\\_UT\\_1 & HCC\\_1937\\_UT\\_2 & HCC\\_1937\\_UT\\_3 & MCF\\_10A\\_TR\\_1 & MCF\\_10A\\_TR\\_2 & MCF\\_10A\\_TR\\_3 & MDA-MB-231\\_TR\\_1 & MDA-MB-231\\_TR\\_2 & MDA-MB-231\\_TR\\_3 & HCC\\_1937\\_TR\\_1 & HCC\\_1937\\_TR\\_2 & HCC\\_1937\\_TR\\_3\\\\\n",
       "\\hline\n",
       "\tMCF\\_10A\\_UT\\_1 & 1.0000000 & 0.9986845 & 0.9992097 & 0.9649922 & 0.9658016 & 0.9656314 & 0.9492582 & 0.9503901 & 0.9490995 & 0.9500230 & 0.9499292 & 0.9501144 & 0.9181036 & 0.9178460 & 0.9180701 & 0.9026675 & 0.9044244 & 0.9030061\\\\\n",
       "\tMCF\\_10A\\_UT\\_2 & 0.9986845 & 1.0000000 & 0.9987651 & 0.9646778 & 0.9654466 & 0.9652943 & 0.9481662 & 0.9502446 & 0.9486082 & 0.9496520 & 0.9495398 & 0.9497576 & 0.9185710 & 0.9181542 & 0.9177218 & 0.9019722 & 0.9040500 & 0.9021807\\\\\n",
       "\tMCF\\_10A\\_UT\\_3 & 0.9992097 & 0.9987651 & 1.0000000 & 0.9650855 & 0.9657703 & 0.9656633 & 0.9494264 & 0.9508393 & 0.9494412 & 0.9501546 & 0.9501999 & 0.9502688 & 0.9187386 & 0.9182989 & 0.9184224 & 0.9032745 & 0.9049385 & 0.9036529\\\\\n",
       "\tMDA-MB-231\\_UT\\_1 & 0.9649922 & 0.9646778 & 0.9650855 & 1.0000000 & 0.9988688 & 0.9990008 & 0.9489834 & 0.9514096 & 0.9508699 & 0.9204158 & 0.9204996 & 0.9213178 & 0.9520078 & 0.9514536 & 0.9511804 & 0.9041399 & 0.9073411 & 0.9063620\\\\\n",
       "\tMDA-MB-231\\_UT\\_2 & 0.9658016 & 0.9654466 & 0.9657703 & 0.9988688 & 1.0000000 & 0.9991126 & 0.9503319 & 0.9523860 & 0.9521119 & 0.9209467 & 0.9208235 & 0.9217332 & 0.9514749 & 0.9514009 & 0.9511416 & 0.9046982 & 0.9075181 & 0.9068976\\\\\n",
       "\tMDA-MB-231\\_UT\\_3 & 0.9656314 & 0.9652943 & 0.9656633 & 0.9990008 & 0.9991126 & 1.0000000 & 0.9470699 & 0.9492976 & 0.9488557 & 0.9212575 & 0.9212330 & 0.9221411 & 0.9522266 & 0.9516373 & 0.9518587 & 0.9023146 & 0.9050802 & 0.9045200\\\\\n",
       "\tHCC\\_1937\\_UT\\_1 & 0.9492582 & 0.9481662 & 0.9494264 & 0.9489834 & 0.9503319 & 0.9470699 & 1.0000000 & 0.9990818 & 0.9992402 & 0.9040956 & 0.9038150 & 0.9045563 & 0.9040787 & 0.9036684 & 0.9018298 & 0.9515423 & 0.9508051 & 0.9512196\\\\\n",
       "\tHCC\\_1937\\_UT\\_2 & 0.9503901 & 0.9502446 & 0.9508393 & 0.9514096 & 0.9523860 & 0.9492976 & 0.9990818 & 1.0000000 & 0.9993355 & 0.9055892 & 0.9053321 & 0.9060740 & 0.9070534 & 0.9063839 & 0.9042297 & 0.9517045 & 0.9514443 & 0.9514588\\\\\n",
       "\tHCC\\_1937\\_UT\\_3 & 0.9490995 & 0.9486082 & 0.9494412 & 0.9508699 & 0.9521119 & 0.9488557 & 0.9992402 & 0.9993355 & 1.0000000 & 0.9041162 & 0.9037301 & 0.9046215 & 0.9061828 & 0.9056335 & 0.9035192 & 0.9514129 & 0.9509195 & 0.9511721\\\\\n",
       "\tMCF\\_10A\\_TR\\_1 & 0.9500230 & 0.9496520 & 0.9501546 & 0.9204158 & 0.9209467 & 0.9212575 & 0.9040956 & 0.9055892 & 0.9041162 & 1.0000000 & 0.9993610 & 0.9995194 & 0.9647632 & 0.9648777 & 0.9653084 & 0.9474869 & 0.9493805 & 0.9479757\\\\\n",
       "\tMCF\\_10A\\_TR\\_2 & 0.9499292 & 0.9495398 & 0.9501999 & 0.9204996 & 0.9208235 & 0.9212330 & 0.9038150 & 0.9053321 & 0.9037301 & 0.9993610 & 1.0000000 & 0.9991877 & 0.9646425 & 0.9645767 & 0.9653152 & 0.9470470 & 0.9488273 & 0.9476584\\\\\n",
       "\tMCF\\_10A\\_TR\\_3 & 0.9501144 & 0.9497576 & 0.9502688 & 0.9213178 & 0.9217332 & 0.9221411 & 0.9045563 & 0.9060740 & 0.9046215 & 0.9995194 & 0.9991877 & 1.0000000 & 0.9655759 & 0.9655396 & 0.9661309 & 0.9478250 & 0.9496787 & 0.9483813\\\\\n",
       "\tMDA-MB-231\\_TR\\_1 & 0.9181036 & 0.9185710 & 0.9187386 & 0.9520078 & 0.9514749 & 0.9522266 & 0.9040787 & 0.9070534 & 0.9061828 & 0.9647632 & 0.9646425 & 0.9655759 & 1.0000000 & 0.9987229 & 0.9987041 & 0.9476072 & 0.9508911 & 0.9500997\\\\\n",
       "\tMDA-MB-231\\_TR\\_2 & 0.9178460 & 0.9181542 & 0.9182989 & 0.9514536 & 0.9514009 & 0.9516373 & 0.9036684 & 0.9063839 & 0.9056335 & 0.9648777 & 0.9645767 & 0.9655396 & 0.9987229 & 1.0000000 & 0.9988026 & 0.9474561 & 0.9513512 & 0.9500585\\\\\n",
       "\tMDA-MB-231\\_TR\\_3 & 0.9180701 & 0.9177218 & 0.9184224 & 0.9511804 & 0.9511416 & 0.9518587 & 0.9018298 & 0.9042297 & 0.9035192 & 0.9653084 & 0.9653152 & 0.9661309 & 0.9987041 & 0.9988026 & 1.0000000 & 0.9459058 & 0.9490104 & 0.9487180\\\\\n",
       "\tHCC\\_1937\\_TR\\_1 & 0.9026675 & 0.9019722 & 0.9032745 & 0.9041399 & 0.9046982 & 0.9023146 & 0.9515423 & 0.9517045 & 0.9514129 & 0.9474869 & 0.9470470 & 0.9478250 & 0.9476072 & 0.9474561 & 0.9459058 & 1.0000000 & 0.9984996 & 0.9992356\\\\\n",
       "\tHCC\\_1937\\_TR\\_2 & 0.9044244 & 0.9040500 & 0.9049385 & 0.9073411 & 0.9075181 & 0.9050802 & 0.9508051 & 0.9514443 & 0.9509195 & 0.9493805 & 0.9488273 & 0.9496787 & 0.9508911 & 0.9513512 & 0.9490104 & 0.9984996 & 1.0000000 & 0.9985106\\\\\n",
       "\tHCC\\_1937\\_TR\\_3 & 0.9030061 & 0.9021807 & 0.9036529 & 0.9063620 & 0.9068976 & 0.9045200 & 0.9512196 & 0.9514588 & 0.9511721 & 0.9479757 & 0.9476584 & 0.9483813 & 0.9500997 & 0.9500585 & 0.9487180 & 0.9992356 & 0.9985106 & 1.0000000\\\\\n",
       "\\end{tabular}\n"
      ],
      "text/markdown": [
       "\n",
       "A matrix: 18 × 18 of type dbl\n",
       "\n",
       "| <!--/--> | MCF_10A_UT_1 | MCF_10A_UT_2 | MCF_10A_UT_3 | MDA-MB-231_UT_1 | MDA-MB-231_UT_2 | MDA-MB-231_UT_3 | HCC_1937_UT_1 | HCC_1937_UT_2 | HCC_1937_UT_3 | MCF_10A_TR_1 | MCF_10A_TR_2 | MCF_10A_TR_3 | MDA-MB-231_TR_1 | MDA-MB-231_TR_2 | MDA-MB-231_TR_3 | HCC_1937_TR_1 | HCC_1937_TR_2 | HCC_1937_TR_3 |\n",
       "|---|---|---|---|---|---|---|---|---|---|---|---|---|---|---|---|---|---|---|\n",
       "| MCF_10A_UT_1 | 1.0000000 | 0.9986845 | 0.9992097 | 0.9649922 | 0.9658016 | 0.9656314 | 0.9492582 | 0.9503901 | 0.9490995 | 0.9500230 | 0.9499292 | 0.9501144 | 0.9181036 | 0.9178460 | 0.9180701 | 0.9026675 | 0.9044244 | 0.9030061 |\n",
       "| MCF_10A_UT_2 | 0.9986845 | 1.0000000 | 0.9987651 | 0.9646778 | 0.9654466 | 0.9652943 | 0.9481662 | 0.9502446 | 0.9486082 | 0.9496520 | 0.9495398 | 0.9497576 | 0.9185710 | 0.9181542 | 0.9177218 | 0.9019722 | 0.9040500 | 0.9021807 |\n",
       "| MCF_10A_UT_3 | 0.9992097 | 0.9987651 | 1.0000000 | 0.9650855 | 0.9657703 | 0.9656633 | 0.9494264 | 0.9508393 | 0.9494412 | 0.9501546 | 0.9501999 | 0.9502688 | 0.9187386 | 0.9182989 | 0.9184224 | 0.9032745 | 0.9049385 | 0.9036529 |\n",
       "| MDA-MB-231_UT_1 | 0.9649922 | 0.9646778 | 0.9650855 | 1.0000000 | 0.9988688 | 0.9990008 | 0.9489834 | 0.9514096 | 0.9508699 | 0.9204158 | 0.9204996 | 0.9213178 | 0.9520078 | 0.9514536 | 0.9511804 | 0.9041399 | 0.9073411 | 0.9063620 |\n",
       "| MDA-MB-231_UT_2 | 0.9658016 | 0.9654466 | 0.9657703 | 0.9988688 | 1.0000000 | 0.9991126 | 0.9503319 | 0.9523860 | 0.9521119 | 0.9209467 | 0.9208235 | 0.9217332 | 0.9514749 | 0.9514009 | 0.9511416 | 0.9046982 | 0.9075181 | 0.9068976 |\n",
       "| MDA-MB-231_UT_3 | 0.9656314 | 0.9652943 | 0.9656633 | 0.9990008 | 0.9991126 | 1.0000000 | 0.9470699 | 0.9492976 | 0.9488557 | 0.9212575 | 0.9212330 | 0.9221411 | 0.9522266 | 0.9516373 | 0.9518587 | 0.9023146 | 0.9050802 | 0.9045200 |\n",
       "| HCC_1937_UT_1 | 0.9492582 | 0.9481662 | 0.9494264 | 0.9489834 | 0.9503319 | 0.9470699 | 1.0000000 | 0.9990818 | 0.9992402 | 0.9040956 | 0.9038150 | 0.9045563 | 0.9040787 | 0.9036684 | 0.9018298 | 0.9515423 | 0.9508051 | 0.9512196 |\n",
       "| HCC_1937_UT_2 | 0.9503901 | 0.9502446 | 0.9508393 | 0.9514096 | 0.9523860 | 0.9492976 | 0.9990818 | 1.0000000 | 0.9993355 | 0.9055892 | 0.9053321 | 0.9060740 | 0.9070534 | 0.9063839 | 0.9042297 | 0.9517045 | 0.9514443 | 0.9514588 |\n",
       "| HCC_1937_UT_3 | 0.9490995 | 0.9486082 | 0.9494412 | 0.9508699 | 0.9521119 | 0.9488557 | 0.9992402 | 0.9993355 | 1.0000000 | 0.9041162 | 0.9037301 | 0.9046215 | 0.9061828 | 0.9056335 | 0.9035192 | 0.9514129 | 0.9509195 | 0.9511721 |\n",
       "| MCF_10A_TR_1 | 0.9500230 | 0.9496520 | 0.9501546 | 0.9204158 | 0.9209467 | 0.9212575 | 0.9040956 | 0.9055892 | 0.9041162 | 1.0000000 | 0.9993610 | 0.9995194 | 0.9647632 | 0.9648777 | 0.9653084 | 0.9474869 | 0.9493805 | 0.9479757 |\n",
       "| MCF_10A_TR_2 | 0.9499292 | 0.9495398 | 0.9501999 | 0.9204996 | 0.9208235 | 0.9212330 | 0.9038150 | 0.9053321 | 0.9037301 | 0.9993610 | 1.0000000 | 0.9991877 | 0.9646425 | 0.9645767 | 0.9653152 | 0.9470470 | 0.9488273 | 0.9476584 |\n",
       "| MCF_10A_TR_3 | 0.9501144 | 0.9497576 | 0.9502688 | 0.9213178 | 0.9217332 | 0.9221411 | 0.9045563 | 0.9060740 | 0.9046215 | 0.9995194 | 0.9991877 | 1.0000000 | 0.9655759 | 0.9655396 | 0.9661309 | 0.9478250 | 0.9496787 | 0.9483813 |\n",
       "| MDA-MB-231_TR_1 | 0.9181036 | 0.9185710 | 0.9187386 | 0.9520078 | 0.9514749 | 0.9522266 | 0.9040787 | 0.9070534 | 0.9061828 | 0.9647632 | 0.9646425 | 0.9655759 | 1.0000000 | 0.9987229 | 0.9987041 | 0.9476072 | 0.9508911 | 0.9500997 |\n",
       "| MDA-MB-231_TR_2 | 0.9178460 | 0.9181542 | 0.9182989 | 0.9514536 | 0.9514009 | 0.9516373 | 0.9036684 | 0.9063839 | 0.9056335 | 0.9648777 | 0.9645767 | 0.9655396 | 0.9987229 | 1.0000000 | 0.9988026 | 0.9474561 | 0.9513512 | 0.9500585 |\n",
       "| MDA-MB-231_TR_3 | 0.9180701 | 0.9177218 | 0.9184224 | 0.9511804 | 0.9511416 | 0.9518587 | 0.9018298 | 0.9042297 | 0.9035192 | 0.9653084 | 0.9653152 | 0.9661309 | 0.9987041 | 0.9988026 | 1.0000000 | 0.9459058 | 0.9490104 | 0.9487180 |\n",
       "| HCC_1937_TR_1 | 0.9026675 | 0.9019722 | 0.9032745 | 0.9041399 | 0.9046982 | 0.9023146 | 0.9515423 | 0.9517045 | 0.9514129 | 0.9474869 | 0.9470470 | 0.9478250 | 0.9476072 | 0.9474561 | 0.9459058 | 1.0000000 | 0.9984996 | 0.9992356 |\n",
       "| HCC_1937_TR_2 | 0.9044244 | 0.9040500 | 0.9049385 | 0.9073411 | 0.9075181 | 0.9050802 | 0.9508051 | 0.9514443 | 0.9509195 | 0.9493805 | 0.9488273 | 0.9496787 | 0.9508911 | 0.9513512 | 0.9490104 | 0.9984996 | 1.0000000 | 0.9985106 |\n",
       "| HCC_1937_TR_3 | 0.9030061 | 0.9021807 | 0.9036529 | 0.9063620 | 0.9068976 | 0.9045200 | 0.9512196 | 0.9514588 | 0.9511721 | 0.9479757 | 0.9476584 | 0.9483813 | 0.9500997 | 0.9500585 | 0.9487180 | 0.9992356 | 0.9985106 | 1.0000000 |\n",
       "\n"
      ],
      "text/plain": [
       "                MCF_10A_UT_1 MCF_10A_UT_2 MCF_10A_UT_3 MDA-MB-231_UT_1\n",
       "MCF_10A_UT_1    1.0000000    0.9986845    0.9992097    0.9649922      \n",
       "MCF_10A_UT_2    0.9986845    1.0000000    0.9987651    0.9646778      \n",
       "MCF_10A_UT_3    0.9992097    0.9987651    1.0000000    0.9650855      \n",
       "MDA-MB-231_UT_1 0.9649922    0.9646778    0.9650855    1.0000000      \n",
       "MDA-MB-231_UT_2 0.9658016    0.9654466    0.9657703    0.9988688      \n",
       "MDA-MB-231_UT_3 0.9656314    0.9652943    0.9656633    0.9990008      \n",
       "HCC_1937_UT_1   0.9492582    0.9481662    0.9494264    0.9489834      \n",
       "HCC_1937_UT_2   0.9503901    0.9502446    0.9508393    0.9514096      \n",
       "HCC_1937_UT_3   0.9490995    0.9486082    0.9494412    0.9508699      \n",
       "MCF_10A_TR_1    0.9500230    0.9496520    0.9501546    0.9204158      \n",
       "MCF_10A_TR_2    0.9499292    0.9495398    0.9501999    0.9204996      \n",
       "MCF_10A_TR_3    0.9501144    0.9497576    0.9502688    0.9213178      \n",
       "MDA-MB-231_TR_1 0.9181036    0.9185710    0.9187386    0.9520078      \n",
       "MDA-MB-231_TR_2 0.9178460    0.9181542    0.9182989    0.9514536      \n",
       "MDA-MB-231_TR_3 0.9180701    0.9177218    0.9184224    0.9511804      \n",
       "HCC_1937_TR_1   0.9026675    0.9019722    0.9032745    0.9041399      \n",
       "HCC_1937_TR_2   0.9044244    0.9040500    0.9049385    0.9073411      \n",
       "HCC_1937_TR_3   0.9030061    0.9021807    0.9036529    0.9063620      \n",
       "                MDA-MB-231_UT_2 MDA-MB-231_UT_3 HCC_1937_UT_1 HCC_1937_UT_2\n",
       "MCF_10A_UT_1    0.9658016       0.9656314       0.9492582     0.9503901    \n",
       "MCF_10A_UT_2    0.9654466       0.9652943       0.9481662     0.9502446    \n",
       "MCF_10A_UT_3    0.9657703       0.9656633       0.9494264     0.9508393    \n",
       "MDA-MB-231_UT_1 0.9988688       0.9990008       0.9489834     0.9514096    \n",
       "MDA-MB-231_UT_2 1.0000000       0.9991126       0.9503319     0.9523860    \n",
       "MDA-MB-231_UT_3 0.9991126       1.0000000       0.9470699     0.9492976    \n",
       "HCC_1937_UT_1   0.9503319       0.9470699       1.0000000     0.9990818    \n",
       "HCC_1937_UT_2   0.9523860       0.9492976       0.9990818     1.0000000    \n",
       "HCC_1937_UT_3   0.9521119       0.9488557       0.9992402     0.9993355    \n",
       "MCF_10A_TR_1    0.9209467       0.9212575       0.9040956     0.9055892    \n",
       "MCF_10A_TR_2    0.9208235       0.9212330       0.9038150     0.9053321    \n",
       "MCF_10A_TR_3    0.9217332       0.9221411       0.9045563     0.9060740    \n",
       "MDA-MB-231_TR_1 0.9514749       0.9522266       0.9040787     0.9070534    \n",
       "MDA-MB-231_TR_2 0.9514009       0.9516373       0.9036684     0.9063839    \n",
       "MDA-MB-231_TR_3 0.9511416       0.9518587       0.9018298     0.9042297    \n",
       "HCC_1937_TR_1   0.9046982       0.9023146       0.9515423     0.9517045    \n",
       "HCC_1937_TR_2   0.9075181       0.9050802       0.9508051     0.9514443    \n",
       "HCC_1937_TR_3   0.9068976       0.9045200       0.9512196     0.9514588    \n",
       "                HCC_1937_UT_3 MCF_10A_TR_1 MCF_10A_TR_2 MCF_10A_TR_3\n",
       "MCF_10A_UT_1    0.9490995     0.9500230    0.9499292    0.9501144   \n",
       "MCF_10A_UT_2    0.9486082     0.9496520    0.9495398    0.9497576   \n",
       "MCF_10A_UT_3    0.9494412     0.9501546    0.9501999    0.9502688   \n",
       "MDA-MB-231_UT_1 0.9508699     0.9204158    0.9204996    0.9213178   \n",
       "MDA-MB-231_UT_2 0.9521119     0.9209467    0.9208235    0.9217332   \n",
       "MDA-MB-231_UT_3 0.9488557     0.9212575    0.9212330    0.9221411   \n",
       "HCC_1937_UT_1   0.9992402     0.9040956    0.9038150    0.9045563   \n",
       "HCC_1937_UT_2   0.9993355     0.9055892    0.9053321    0.9060740   \n",
       "HCC_1937_UT_3   1.0000000     0.9041162    0.9037301    0.9046215   \n",
       "MCF_10A_TR_1    0.9041162     1.0000000    0.9993610    0.9995194   \n",
       "MCF_10A_TR_2    0.9037301     0.9993610    1.0000000    0.9991877   \n",
       "MCF_10A_TR_3    0.9046215     0.9995194    0.9991877    1.0000000   \n",
       "MDA-MB-231_TR_1 0.9061828     0.9647632    0.9646425    0.9655759   \n",
       "MDA-MB-231_TR_2 0.9056335     0.9648777    0.9645767    0.9655396   \n",
       "MDA-MB-231_TR_3 0.9035192     0.9653084    0.9653152    0.9661309   \n",
       "HCC_1937_TR_1   0.9514129     0.9474869    0.9470470    0.9478250   \n",
       "HCC_1937_TR_2   0.9509195     0.9493805    0.9488273    0.9496787   \n",
       "HCC_1937_TR_3   0.9511721     0.9479757    0.9476584    0.9483813   \n",
       "                MDA-MB-231_TR_1 MDA-MB-231_TR_2 MDA-MB-231_TR_3 HCC_1937_TR_1\n",
       "MCF_10A_UT_1    0.9181036       0.9178460       0.9180701       0.9026675    \n",
       "MCF_10A_UT_2    0.9185710       0.9181542       0.9177218       0.9019722    \n",
       "MCF_10A_UT_3    0.9187386       0.9182989       0.9184224       0.9032745    \n",
       "MDA-MB-231_UT_1 0.9520078       0.9514536       0.9511804       0.9041399    \n",
       "MDA-MB-231_UT_2 0.9514749       0.9514009       0.9511416       0.9046982    \n",
       "MDA-MB-231_UT_3 0.9522266       0.9516373       0.9518587       0.9023146    \n",
       "HCC_1937_UT_1   0.9040787       0.9036684       0.9018298       0.9515423    \n",
       "HCC_1937_UT_2   0.9070534       0.9063839       0.9042297       0.9517045    \n",
       "HCC_1937_UT_3   0.9061828       0.9056335       0.9035192       0.9514129    \n",
       "MCF_10A_TR_1    0.9647632       0.9648777       0.9653084       0.9474869    \n",
       "MCF_10A_TR_2    0.9646425       0.9645767       0.9653152       0.9470470    \n",
       "MCF_10A_TR_3    0.9655759       0.9655396       0.9661309       0.9478250    \n",
       "MDA-MB-231_TR_1 1.0000000       0.9987229       0.9987041       0.9476072    \n",
       "MDA-MB-231_TR_2 0.9987229       1.0000000       0.9988026       0.9474561    \n",
       "MDA-MB-231_TR_3 0.9987041       0.9988026       1.0000000       0.9459058    \n",
       "HCC_1937_TR_1   0.9476072       0.9474561       0.9459058       1.0000000    \n",
       "HCC_1937_TR_2   0.9508911       0.9513512       0.9490104       0.9984996    \n",
       "HCC_1937_TR_3   0.9500997       0.9500585       0.9487180       0.9992356    \n",
       "                HCC_1937_TR_2 HCC_1937_TR_3\n",
       "MCF_10A_UT_1    0.9044244     0.9030061    \n",
       "MCF_10A_UT_2    0.9040500     0.9021807    \n",
       "MCF_10A_UT_3    0.9049385     0.9036529    \n",
       "MDA-MB-231_UT_1 0.9073411     0.9063620    \n",
       "MDA-MB-231_UT_2 0.9075181     0.9068976    \n",
       "MDA-MB-231_UT_3 0.9050802     0.9045200    \n",
       "HCC_1937_UT_1   0.9508051     0.9512196    \n",
       "HCC_1937_UT_2   0.9514443     0.9514588    \n",
       "HCC_1937_UT_3   0.9509195     0.9511721    \n",
       "MCF_10A_TR_1    0.9493805     0.9479757    \n",
       "MCF_10A_TR_2    0.9488273     0.9476584    \n",
       "MCF_10A_TR_3    0.9496787     0.9483813    \n",
       "MDA-MB-231_TR_1 0.9508911     0.9500997    \n",
       "MDA-MB-231_TR_2 0.9513512     0.9500585    \n",
       "MDA-MB-231_TR_3 0.9490104     0.9487180    \n",
       "HCC_1937_TR_1   0.9984996     0.9992356    \n",
       "HCC_1937_TR_2   1.0000000     0.9985106    \n",
       "HCC_1937_TR_3   0.9985106     1.0000000    "
      ]
     },
     "metadata": {},
     "output_type": "display_data"
    },
    {
     "data": {
      "text/html": [
       "<table class=\"dataframe\">\n",
       "<caption>A matrix: 18 × 18 of type dbl</caption>\n",
       "<thead>\n",
       "\t<tr><th></th><th scope=col>MCF_10A_UT_1</th><th scope=col>MCF_10A_UT_2</th><th scope=col>MCF_10A_UT_3</th><th scope=col>MDA-MB-231_UT_1</th><th scope=col>MDA-MB-231_UT_2</th><th scope=col>MDA-MB-231_UT_3</th><th scope=col>HCC_1937_UT_1</th><th scope=col>HCC_1937_UT_2</th><th scope=col>HCC_1937_UT_3</th><th scope=col>MCF_10A_TR_1</th><th scope=col>MCF_10A_TR_2</th><th scope=col>MCF_10A_TR_3</th><th scope=col>MDA-MB-231_TR_1</th><th scope=col>MDA-MB-231_TR_2</th><th scope=col>MDA-MB-231_TR_3</th><th scope=col>HCC_1937_TR_1</th><th scope=col>HCC_1937_TR_2</th><th scope=col>HCC_1937_TR_3</th></tr>\n",
       "</thead>\n",
       "<tbody>\n",
       "\t<tr><th scope=row>MCF_10A_UT_1</th><td>40.39563</td><td>40.03220</td><td>40.04038</td><td>39.24971</td><td>39.24217</td><td>39.24221</td><td>38.94622</td><td>39.02567</td><td>39.12568</td><td>27.71006</td><td>28.04843</td><td>27.84304</td><td>27.56210</td><td>27.49471</td><td>27.48534</td><td>27.27486</td><td>27.21031</td><td>27.44368</td></tr>\n",
       "\t<tr><th scope=row>MCF_10A_UT_2</th><td>40.03220</td><td>40.34293</td><td>40.00306</td><td>39.25868</td><td>39.26645</td><td>39.21118</td><td>38.91546</td><td>39.07962</td><td>39.14112</td><td>27.66566</td><td>28.01872</td><td>27.81709</td><td>27.55751</td><td>27.46210</td><td>27.42817</td><td>27.25496</td><td>27.17790</td><td>27.41936</td></tr>\n",
       "\t<tr><th scope=row>MCF_10A_UT_3</th><td>40.04038</td><td>40.00306</td><td>40.30559</td><td>39.22840</td><td>39.19345</td><td>39.18997</td><td>38.94001</td><td>39.03728</td><td>39.12994</td><td>27.61840</td><td>27.96162</td><td>27.77448</td><td>27.49496</td><td>27.41400</td><td>27.37609</td><td>27.16111</td><td>27.11775</td><td>27.33717</td></tr>\n",
       "\t<tr><th scope=row>MDA-MB-231_UT_1</th><td>39.24971</td><td>39.25868</td><td>39.22840</td><td>40.20596</td><td>39.88523</td><td>39.85638</td><td>38.86350</td><td>38.95361</td><td>39.05356</td><td>27.14378</td><td>27.52403</td><td>27.34578</td><td>28.17380</td><td>28.04669</td><td>28.00369</td><td>27.21675</td><td>27.16148</td><td>27.37288</td></tr>\n",
       "\t<tr><th scope=row>MDA-MB-231_UT_2</th><td>39.24217</td><td>39.26645</td><td>39.19345</td><td>39.88523</td><td>40.19414</td><td>39.83968</td><td>38.90808</td><td>39.00226</td><td>39.11312</td><td>27.06563</td><td>27.42498</td><td>27.25481</td><td>28.05169</td><td>27.95615</td><td>27.93512</td><td>27.16036</td><td>27.09853</td><td>27.32977</td></tr>\n",
       "\t<tr><th scope=row>MDA-MB-231_UT_3</th><td>39.24221</td><td>39.21118</td><td>39.18997</td><td>39.85638</td><td>39.83968</td><td>40.05369</td><td>38.79669</td><td>38.86613</td><td>38.96528</td><td>27.13522</td><td>27.48048</td><td>27.32459</td><td>28.11262</td><td>27.99615</td><td>27.95513</td><td>27.15251</td><td>27.09434</td><td>27.32255</td></tr>\n",
       "\t<tr><th scope=row>HCC_1937_UT_1</th><td>38.94622</td><td>38.91546</td><td>38.94001</td><td>38.86350</td><td>38.90808</td><td>38.79669</td><td>40.17249</td><td>40.00013</td><td>40.22656</td><td>26.85523</td><td>27.20542</td><td>27.05349</td><td>27.28053</td><td>27.22073</td><td>27.16188</td><td>28.00797</td><td>27.91100</td><td>28.17245</td></tr>\n",
       "\t<tr><th scope=row>HCC_1937_UT_2</th><td>39.02567</td><td>39.07962</td><td>39.03728</td><td>38.95361</td><td>39.00226</td><td>38.86613</td><td>40.00013</td><td>40.40678</td><td>40.34802</td><td>26.88783</td><td>27.23754</td><td>27.07002</td><td>27.34364</td><td>27.26731</td><td>27.20376</td><td>28.02803</td><td>27.94282</td><td>28.20191</td></tr>\n",
       "\t<tr><th scope=row>HCC_1937_UT_3</th><td>39.12568</td><td>39.14112</td><td>39.12994</td><td>39.05356</td><td>39.11312</td><td>38.96528</td><td>40.22656</td><td>40.34802</td><td>40.77031</td><td>27.00074</td><td>27.36009</td><td>27.18585</td><td>27.45699</td><td>27.39635</td><td>27.33145</td><td>28.17896</td><td>28.08673</td><td>28.34994</td></tr>\n",
       "\t<tr><th scope=row>MCF_10A_TR_1</th><td>27.71006</td><td>27.66566</td><td>27.61840</td><td>27.14378</td><td>27.06563</td><td>27.13522</td><td>26.85523</td><td>26.88783</td><td>27.00074</td><td>34.27968</td><td>34.42103</td><td>34.19093</td><td>33.62715</td><td>33.49697</td><td>33.51845</td><td>33.20590</td><td>33.24370</td><td>33.41639</td></tr>\n",
       "\t<tr><th scope=row>MCF_10A_TR_2</th><td>28.04843</td><td>28.01872</td><td>27.96162</td><td>27.52403</td><td>27.42498</td><td>27.48048</td><td>27.20542</td><td>27.23754</td><td>27.36009</td><td>34.42103</td><td>35.10613</td><td>34.53129</td><td>33.98288</td><td>33.86788</td><td>33.90317</td><td>33.51883</td><td>33.56170</td><td>33.76465</td></tr>\n",
       "\t<tr><th scope=row>MCF_10A_TR_3</th><td>27.84304</td><td>27.81709</td><td>27.77448</td><td>27.34578</td><td>27.25481</td><td>27.32459</td><td>27.05349</td><td>27.07002</td><td>27.18585</td><td>34.19093</td><td>34.53129</td><td>34.52535</td><td>33.74871</td><td>33.68255</td><td>33.66071</td><td>33.28753</td><td>33.35127</td><td>33.50025</td></tr>\n",
       "\t<tr><th scope=row>MDA-MB-231_TR_1</th><td>27.56210</td><td>27.55751</td><td>27.49496</td><td>28.17380</td><td>28.05169</td><td>28.11262</td><td>27.28053</td><td>27.34364</td><td>27.45699</td><td>33.62715</td><td>33.98288</td><td>33.74871</td><td>35.04995</td><td>34.62665</td><td>34.62709</td><td>33.51765</td><td>33.59824</td><td>33.72446</td></tr>\n",
       "\t<tr><th scope=row>MDA-MB-231_TR_2</th><td>27.49471</td><td>27.46210</td><td>27.41400</td><td>28.04669</td><td>27.95615</td><td>27.99615</td><td>27.22073</td><td>27.26731</td><td>27.39635</td><td>33.49697</td><td>33.86788</td><td>33.68255</td><td>34.62665</td><td>34.76205</td><td>34.53486</td><td>33.43964</td><td>33.53723</td><td>33.72089</td></tr>\n",
       "\t<tr><th scope=row>MDA-MB-231_TR_3</th><td>27.48534</td><td>27.42817</td><td>27.37609</td><td>28.00369</td><td>27.93512</td><td>27.95513</td><td>27.16188</td><td>27.20376</td><td>27.33145</td><td>33.51845</td><td>33.90317</td><td>33.66071</td><td>34.62709</td><td>34.53486</td><td>34.81081</td><td>33.50986</td><td>33.55830</td><td>33.74729</td></tr>\n",
       "\t<tr><th scope=row>HCC_1937_TR_1</th><td>27.27486</td><td>27.25496</td><td>27.16111</td><td>27.21675</td><td>27.16036</td><td>27.15251</td><td>28.00797</td><td>28.02803</td><td>28.17896</td><td>33.20590</td><td>33.51883</td><td>33.28753</td><td>33.51765</td><td>33.43964</td><td>33.50986</td><td>34.74744</td><td>34.46222</td><td>34.67965</td></tr>\n",
       "\t<tr><th scope=row>HCC_1937_TR_2</th><td>27.21031</td><td>27.17790</td><td>27.11775</td><td>27.16148</td><td>27.09853</td><td>27.09434</td><td>27.91100</td><td>27.94282</td><td>28.08673</td><td>33.24370</td><td>33.56170</td><td>33.35127</td><td>33.59824</td><td>33.53723</td><td>33.55830</td><td>34.46222</td><td>34.73455</td><td>34.69521</td></tr>\n",
       "\t<tr><th scope=row>HCC_1937_TR_3</th><td>27.44368</td><td>27.41936</td><td>27.33717</td><td>27.37288</td><td>27.32977</td><td>27.32255</td><td>28.17245</td><td>28.20191</td><td>28.34994</td><td>33.41639</td><td>33.76465</td><td>33.50025</td><td>33.72446</td><td>33.72089</td><td>33.74729</td><td>34.67965</td><td>34.69521</td><td>35.30218</td></tr>\n",
       "</tbody>\n",
       "</table>\n"
      ],
      "text/latex": [
       "A matrix: 18 × 18 of type dbl\n",
       "\\begin{tabular}{r|llllllllllllllllll}\n",
       "  & MCF\\_10A\\_UT\\_1 & MCF\\_10A\\_UT\\_2 & MCF\\_10A\\_UT\\_3 & MDA-MB-231\\_UT\\_1 & MDA-MB-231\\_UT\\_2 & MDA-MB-231\\_UT\\_3 & HCC\\_1937\\_UT\\_1 & HCC\\_1937\\_UT\\_2 & HCC\\_1937\\_UT\\_3 & MCF\\_10A\\_TR\\_1 & MCF\\_10A\\_TR\\_2 & MCF\\_10A\\_TR\\_3 & MDA-MB-231\\_TR\\_1 & MDA-MB-231\\_TR\\_2 & MDA-MB-231\\_TR\\_3 & HCC\\_1937\\_TR\\_1 & HCC\\_1937\\_TR\\_2 & HCC\\_1937\\_TR\\_3\\\\\n",
       "\\hline\n",
       "\tMCF\\_10A\\_UT\\_1 & 40.39563 & 40.03220 & 40.04038 & 39.24971 & 39.24217 & 39.24221 & 38.94622 & 39.02567 & 39.12568 & 27.71006 & 28.04843 & 27.84304 & 27.56210 & 27.49471 & 27.48534 & 27.27486 & 27.21031 & 27.44368\\\\\n",
       "\tMCF\\_10A\\_UT\\_2 & 40.03220 & 40.34293 & 40.00306 & 39.25868 & 39.26645 & 39.21118 & 38.91546 & 39.07962 & 39.14112 & 27.66566 & 28.01872 & 27.81709 & 27.55751 & 27.46210 & 27.42817 & 27.25496 & 27.17790 & 27.41936\\\\\n",
       "\tMCF\\_10A\\_UT\\_3 & 40.04038 & 40.00306 & 40.30559 & 39.22840 & 39.19345 & 39.18997 & 38.94001 & 39.03728 & 39.12994 & 27.61840 & 27.96162 & 27.77448 & 27.49496 & 27.41400 & 27.37609 & 27.16111 & 27.11775 & 27.33717\\\\\n",
       "\tMDA-MB-231\\_UT\\_1 & 39.24971 & 39.25868 & 39.22840 & 40.20596 & 39.88523 & 39.85638 & 38.86350 & 38.95361 & 39.05356 & 27.14378 & 27.52403 & 27.34578 & 28.17380 & 28.04669 & 28.00369 & 27.21675 & 27.16148 & 27.37288\\\\\n",
       "\tMDA-MB-231\\_UT\\_2 & 39.24217 & 39.26645 & 39.19345 & 39.88523 & 40.19414 & 39.83968 & 38.90808 & 39.00226 & 39.11312 & 27.06563 & 27.42498 & 27.25481 & 28.05169 & 27.95615 & 27.93512 & 27.16036 & 27.09853 & 27.32977\\\\\n",
       "\tMDA-MB-231\\_UT\\_3 & 39.24221 & 39.21118 & 39.18997 & 39.85638 & 39.83968 & 40.05369 & 38.79669 & 38.86613 & 38.96528 & 27.13522 & 27.48048 & 27.32459 & 28.11262 & 27.99615 & 27.95513 & 27.15251 & 27.09434 & 27.32255\\\\\n",
       "\tHCC\\_1937\\_UT\\_1 & 38.94622 & 38.91546 & 38.94001 & 38.86350 & 38.90808 & 38.79669 & 40.17249 & 40.00013 & 40.22656 & 26.85523 & 27.20542 & 27.05349 & 27.28053 & 27.22073 & 27.16188 & 28.00797 & 27.91100 & 28.17245\\\\\n",
       "\tHCC\\_1937\\_UT\\_2 & 39.02567 & 39.07962 & 39.03728 & 38.95361 & 39.00226 & 38.86613 & 40.00013 & 40.40678 & 40.34802 & 26.88783 & 27.23754 & 27.07002 & 27.34364 & 27.26731 & 27.20376 & 28.02803 & 27.94282 & 28.20191\\\\\n",
       "\tHCC\\_1937\\_UT\\_3 & 39.12568 & 39.14112 & 39.12994 & 39.05356 & 39.11312 & 38.96528 & 40.22656 & 40.34802 & 40.77031 & 27.00074 & 27.36009 & 27.18585 & 27.45699 & 27.39635 & 27.33145 & 28.17896 & 28.08673 & 28.34994\\\\\n",
       "\tMCF\\_10A\\_TR\\_1 & 27.71006 & 27.66566 & 27.61840 & 27.14378 & 27.06563 & 27.13522 & 26.85523 & 26.88783 & 27.00074 & 34.27968 & 34.42103 & 34.19093 & 33.62715 & 33.49697 & 33.51845 & 33.20590 & 33.24370 & 33.41639\\\\\n",
       "\tMCF\\_10A\\_TR\\_2 & 28.04843 & 28.01872 & 27.96162 & 27.52403 & 27.42498 & 27.48048 & 27.20542 & 27.23754 & 27.36009 & 34.42103 & 35.10613 & 34.53129 & 33.98288 & 33.86788 & 33.90317 & 33.51883 & 33.56170 & 33.76465\\\\\n",
       "\tMCF\\_10A\\_TR\\_3 & 27.84304 & 27.81709 & 27.77448 & 27.34578 & 27.25481 & 27.32459 & 27.05349 & 27.07002 & 27.18585 & 34.19093 & 34.53129 & 34.52535 & 33.74871 & 33.68255 & 33.66071 & 33.28753 & 33.35127 & 33.50025\\\\\n",
       "\tMDA-MB-231\\_TR\\_1 & 27.56210 & 27.55751 & 27.49496 & 28.17380 & 28.05169 & 28.11262 & 27.28053 & 27.34364 & 27.45699 & 33.62715 & 33.98288 & 33.74871 & 35.04995 & 34.62665 & 34.62709 & 33.51765 & 33.59824 & 33.72446\\\\\n",
       "\tMDA-MB-231\\_TR\\_2 & 27.49471 & 27.46210 & 27.41400 & 28.04669 & 27.95615 & 27.99615 & 27.22073 & 27.26731 & 27.39635 & 33.49697 & 33.86788 & 33.68255 & 34.62665 & 34.76205 & 34.53486 & 33.43964 & 33.53723 & 33.72089\\\\\n",
       "\tMDA-MB-231\\_TR\\_3 & 27.48534 & 27.42817 & 27.37609 & 28.00369 & 27.93512 & 27.95513 & 27.16188 & 27.20376 & 27.33145 & 33.51845 & 33.90317 & 33.66071 & 34.62709 & 34.53486 & 34.81081 & 33.50986 & 33.55830 & 33.74729\\\\\n",
       "\tHCC\\_1937\\_TR\\_1 & 27.27486 & 27.25496 & 27.16111 & 27.21675 & 27.16036 & 27.15251 & 28.00797 & 28.02803 & 28.17896 & 33.20590 & 33.51883 & 33.28753 & 33.51765 & 33.43964 & 33.50986 & 34.74744 & 34.46222 & 34.67965\\\\\n",
       "\tHCC\\_1937\\_TR\\_2 & 27.21031 & 27.17790 & 27.11775 & 27.16148 & 27.09853 & 27.09434 & 27.91100 & 27.94282 & 28.08673 & 33.24370 & 33.56170 & 33.35127 & 33.59824 & 33.53723 & 33.55830 & 34.46222 & 34.73455 & 34.69521\\\\\n",
       "\tHCC\\_1937\\_TR\\_3 & 27.44368 & 27.41936 & 27.33717 & 27.37288 & 27.32977 & 27.32255 & 28.17245 & 28.20191 & 28.34994 & 33.41639 & 33.76465 & 33.50025 & 33.72446 & 33.72089 & 33.74729 & 34.67965 & 34.69521 & 35.30218\\\\\n",
       "\\end{tabular}\n"
      ],
      "text/markdown": [
       "\n",
       "A matrix: 18 × 18 of type dbl\n",
       "\n",
       "| <!--/--> | MCF_10A_UT_1 | MCF_10A_UT_2 | MCF_10A_UT_3 | MDA-MB-231_UT_1 | MDA-MB-231_UT_2 | MDA-MB-231_UT_3 | HCC_1937_UT_1 | HCC_1937_UT_2 | HCC_1937_UT_3 | MCF_10A_TR_1 | MCF_10A_TR_2 | MCF_10A_TR_3 | MDA-MB-231_TR_1 | MDA-MB-231_TR_2 | MDA-MB-231_TR_3 | HCC_1937_TR_1 | HCC_1937_TR_2 | HCC_1937_TR_3 |\n",
       "|---|---|---|---|---|---|---|---|---|---|---|---|---|---|---|---|---|---|---|\n",
       "| MCF_10A_UT_1 | 40.39563 | 40.03220 | 40.04038 | 39.24971 | 39.24217 | 39.24221 | 38.94622 | 39.02567 | 39.12568 | 27.71006 | 28.04843 | 27.84304 | 27.56210 | 27.49471 | 27.48534 | 27.27486 | 27.21031 | 27.44368 |\n",
       "| MCF_10A_UT_2 | 40.03220 | 40.34293 | 40.00306 | 39.25868 | 39.26645 | 39.21118 | 38.91546 | 39.07962 | 39.14112 | 27.66566 | 28.01872 | 27.81709 | 27.55751 | 27.46210 | 27.42817 | 27.25496 | 27.17790 | 27.41936 |\n",
       "| MCF_10A_UT_3 | 40.04038 | 40.00306 | 40.30559 | 39.22840 | 39.19345 | 39.18997 | 38.94001 | 39.03728 | 39.12994 | 27.61840 | 27.96162 | 27.77448 | 27.49496 | 27.41400 | 27.37609 | 27.16111 | 27.11775 | 27.33717 |\n",
       "| MDA-MB-231_UT_1 | 39.24971 | 39.25868 | 39.22840 | 40.20596 | 39.88523 | 39.85638 | 38.86350 | 38.95361 | 39.05356 | 27.14378 | 27.52403 | 27.34578 | 28.17380 | 28.04669 | 28.00369 | 27.21675 | 27.16148 | 27.37288 |\n",
       "| MDA-MB-231_UT_2 | 39.24217 | 39.26645 | 39.19345 | 39.88523 | 40.19414 | 39.83968 | 38.90808 | 39.00226 | 39.11312 | 27.06563 | 27.42498 | 27.25481 | 28.05169 | 27.95615 | 27.93512 | 27.16036 | 27.09853 | 27.32977 |\n",
       "| MDA-MB-231_UT_3 | 39.24221 | 39.21118 | 39.18997 | 39.85638 | 39.83968 | 40.05369 | 38.79669 | 38.86613 | 38.96528 | 27.13522 | 27.48048 | 27.32459 | 28.11262 | 27.99615 | 27.95513 | 27.15251 | 27.09434 | 27.32255 |\n",
       "| HCC_1937_UT_1 | 38.94622 | 38.91546 | 38.94001 | 38.86350 | 38.90808 | 38.79669 | 40.17249 | 40.00013 | 40.22656 | 26.85523 | 27.20542 | 27.05349 | 27.28053 | 27.22073 | 27.16188 | 28.00797 | 27.91100 | 28.17245 |\n",
       "| HCC_1937_UT_2 | 39.02567 | 39.07962 | 39.03728 | 38.95361 | 39.00226 | 38.86613 | 40.00013 | 40.40678 | 40.34802 | 26.88783 | 27.23754 | 27.07002 | 27.34364 | 27.26731 | 27.20376 | 28.02803 | 27.94282 | 28.20191 |\n",
       "| HCC_1937_UT_3 | 39.12568 | 39.14112 | 39.12994 | 39.05356 | 39.11312 | 38.96528 | 40.22656 | 40.34802 | 40.77031 | 27.00074 | 27.36009 | 27.18585 | 27.45699 | 27.39635 | 27.33145 | 28.17896 | 28.08673 | 28.34994 |\n",
       "| MCF_10A_TR_1 | 27.71006 | 27.66566 | 27.61840 | 27.14378 | 27.06563 | 27.13522 | 26.85523 | 26.88783 | 27.00074 | 34.27968 | 34.42103 | 34.19093 | 33.62715 | 33.49697 | 33.51845 | 33.20590 | 33.24370 | 33.41639 |\n",
       "| MCF_10A_TR_2 | 28.04843 | 28.01872 | 27.96162 | 27.52403 | 27.42498 | 27.48048 | 27.20542 | 27.23754 | 27.36009 | 34.42103 | 35.10613 | 34.53129 | 33.98288 | 33.86788 | 33.90317 | 33.51883 | 33.56170 | 33.76465 |\n",
       "| MCF_10A_TR_3 | 27.84304 | 27.81709 | 27.77448 | 27.34578 | 27.25481 | 27.32459 | 27.05349 | 27.07002 | 27.18585 | 34.19093 | 34.53129 | 34.52535 | 33.74871 | 33.68255 | 33.66071 | 33.28753 | 33.35127 | 33.50025 |\n",
       "| MDA-MB-231_TR_1 | 27.56210 | 27.55751 | 27.49496 | 28.17380 | 28.05169 | 28.11262 | 27.28053 | 27.34364 | 27.45699 | 33.62715 | 33.98288 | 33.74871 | 35.04995 | 34.62665 | 34.62709 | 33.51765 | 33.59824 | 33.72446 |\n",
       "| MDA-MB-231_TR_2 | 27.49471 | 27.46210 | 27.41400 | 28.04669 | 27.95615 | 27.99615 | 27.22073 | 27.26731 | 27.39635 | 33.49697 | 33.86788 | 33.68255 | 34.62665 | 34.76205 | 34.53486 | 33.43964 | 33.53723 | 33.72089 |\n",
       "| MDA-MB-231_TR_3 | 27.48534 | 27.42817 | 27.37609 | 28.00369 | 27.93512 | 27.95513 | 27.16188 | 27.20376 | 27.33145 | 33.51845 | 33.90317 | 33.66071 | 34.62709 | 34.53486 | 34.81081 | 33.50986 | 33.55830 | 33.74729 |\n",
       "| HCC_1937_TR_1 | 27.27486 | 27.25496 | 27.16111 | 27.21675 | 27.16036 | 27.15251 | 28.00797 | 28.02803 | 28.17896 | 33.20590 | 33.51883 | 33.28753 | 33.51765 | 33.43964 | 33.50986 | 34.74744 | 34.46222 | 34.67965 |\n",
       "| HCC_1937_TR_2 | 27.21031 | 27.17790 | 27.11775 | 27.16148 | 27.09853 | 27.09434 | 27.91100 | 27.94282 | 28.08673 | 33.24370 | 33.56170 | 33.35127 | 33.59824 | 33.53723 | 33.55830 | 34.46222 | 34.73455 | 34.69521 |\n",
       "| HCC_1937_TR_3 | 27.44368 | 27.41936 | 27.33717 | 27.37288 | 27.32977 | 27.32255 | 28.17245 | 28.20191 | 28.34994 | 33.41639 | 33.76465 | 33.50025 | 33.72446 | 33.72089 | 33.74729 | 34.67965 | 34.69521 | 35.30218 |\n",
       "\n"
      ],
      "text/plain": [
       "                MCF_10A_UT_1 MCF_10A_UT_2 MCF_10A_UT_3 MDA-MB-231_UT_1\n",
       "MCF_10A_UT_1    40.39563     40.03220     40.04038     39.24971       \n",
       "MCF_10A_UT_2    40.03220     40.34293     40.00306     39.25868       \n",
       "MCF_10A_UT_3    40.04038     40.00306     40.30559     39.22840       \n",
       "MDA-MB-231_UT_1 39.24971     39.25868     39.22840     40.20596       \n",
       "MDA-MB-231_UT_2 39.24217     39.26645     39.19345     39.88523       \n",
       "MDA-MB-231_UT_3 39.24221     39.21118     39.18997     39.85638       \n",
       "HCC_1937_UT_1   38.94622     38.91546     38.94001     38.86350       \n",
       "HCC_1937_UT_2   39.02567     39.07962     39.03728     38.95361       \n",
       "HCC_1937_UT_3   39.12568     39.14112     39.12994     39.05356       \n",
       "MCF_10A_TR_1    27.71006     27.66566     27.61840     27.14378       \n",
       "MCF_10A_TR_2    28.04843     28.01872     27.96162     27.52403       \n",
       "MCF_10A_TR_3    27.84304     27.81709     27.77448     27.34578       \n",
       "MDA-MB-231_TR_1 27.56210     27.55751     27.49496     28.17380       \n",
       "MDA-MB-231_TR_2 27.49471     27.46210     27.41400     28.04669       \n",
       "MDA-MB-231_TR_3 27.48534     27.42817     27.37609     28.00369       \n",
       "HCC_1937_TR_1   27.27486     27.25496     27.16111     27.21675       \n",
       "HCC_1937_TR_2   27.21031     27.17790     27.11775     27.16148       \n",
       "HCC_1937_TR_3   27.44368     27.41936     27.33717     27.37288       \n",
       "                MDA-MB-231_UT_2 MDA-MB-231_UT_3 HCC_1937_UT_1 HCC_1937_UT_2\n",
       "MCF_10A_UT_1    39.24217        39.24221        38.94622      39.02567     \n",
       "MCF_10A_UT_2    39.26645        39.21118        38.91546      39.07962     \n",
       "MCF_10A_UT_3    39.19345        39.18997        38.94001      39.03728     \n",
       "MDA-MB-231_UT_1 39.88523        39.85638        38.86350      38.95361     \n",
       "MDA-MB-231_UT_2 40.19414        39.83968        38.90808      39.00226     \n",
       "MDA-MB-231_UT_3 39.83968        40.05369        38.79669      38.86613     \n",
       "HCC_1937_UT_1   38.90808        38.79669        40.17249      40.00013     \n",
       "HCC_1937_UT_2   39.00226        38.86613        40.00013      40.40678     \n",
       "HCC_1937_UT_3   39.11312        38.96528        40.22656      40.34802     \n",
       "MCF_10A_TR_1    27.06563        27.13522        26.85523      26.88783     \n",
       "MCF_10A_TR_2    27.42498        27.48048        27.20542      27.23754     \n",
       "MCF_10A_TR_3    27.25481        27.32459        27.05349      27.07002     \n",
       "MDA-MB-231_TR_1 28.05169        28.11262        27.28053      27.34364     \n",
       "MDA-MB-231_TR_2 27.95615        27.99615        27.22073      27.26731     \n",
       "MDA-MB-231_TR_3 27.93512        27.95513        27.16188      27.20376     \n",
       "HCC_1937_TR_1   27.16036        27.15251        28.00797      28.02803     \n",
       "HCC_1937_TR_2   27.09853        27.09434        27.91100      27.94282     \n",
       "HCC_1937_TR_3   27.32977        27.32255        28.17245      28.20191     \n",
       "                HCC_1937_UT_3 MCF_10A_TR_1 MCF_10A_TR_2 MCF_10A_TR_3\n",
       "MCF_10A_UT_1    39.12568      27.71006     28.04843     27.84304    \n",
       "MCF_10A_UT_2    39.14112      27.66566     28.01872     27.81709    \n",
       "MCF_10A_UT_3    39.12994      27.61840     27.96162     27.77448    \n",
       "MDA-MB-231_UT_1 39.05356      27.14378     27.52403     27.34578    \n",
       "MDA-MB-231_UT_2 39.11312      27.06563     27.42498     27.25481    \n",
       "MDA-MB-231_UT_3 38.96528      27.13522     27.48048     27.32459    \n",
       "HCC_1937_UT_1   40.22656      26.85523     27.20542     27.05349    \n",
       "HCC_1937_UT_2   40.34802      26.88783     27.23754     27.07002    \n",
       "HCC_1937_UT_3   40.77031      27.00074     27.36009     27.18585    \n",
       "MCF_10A_TR_1    27.00074      34.27968     34.42103     34.19093    \n",
       "MCF_10A_TR_2    27.36009      34.42103     35.10613     34.53129    \n",
       "MCF_10A_TR_3    27.18585      34.19093     34.53129     34.52535    \n",
       "MDA-MB-231_TR_1 27.45699      33.62715     33.98288     33.74871    \n",
       "MDA-MB-231_TR_2 27.39635      33.49697     33.86788     33.68255    \n",
       "MDA-MB-231_TR_3 27.33145      33.51845     33.90317     33.66071    \n",
       "HCC_1937_TR_1   28.17896      33.20590     33.51883     33.28753    \n",
       "HCC_1937_TR_2   28.08673      33.24370     33.56170     33.35127    \n",
       "HCC_1937_TR_3   28.34994      33.41639     33.76465     33.50025    \n",
       "                MDA-MB-231_TR_1 MDA-MB-231_TR_2 MDA-MB-231_TR_3 HCC_1937_TR_1\n",
       "MCF_10A_UT_1    27.56210        27.49471        27.48534        27.27486     \n",
       "MCF_10A_UT_2    27.55751        27.46210        27.42817        27.25496     \n",
       "MCF_10A_UT_3    27.49496        27.41400        27.37609        27.16111     \n",
       "MDA-MB-231_UT_1 28.17380        28.04669        28.00369        27.21675     \n",
       "MDA-MB-231_UT_2 28.05169        27.95615        27.93512        27.16036     \n",
       "MDA-MB-231_UT_3 28.11262        27.99615        27.95513        27.15251     \n",
       "HCC_1937_UT_1   27.28053        27.22073        27.16188        28.00797     \n",
       "HCC_1937_UT_2   27.34364        27.26731        27.20376        28.02803     \n",
       "HCC_1937_UT_3   27.45699        27.39635        27.33145        28.17896     \n",
       "MCF_10A_TR_1    33.62715        33.49697        33.51845        33.20590     \n",
       "MCF_10A_TR_2    33.98288        33.86788        33.90317        33.51883     \n",
       "MCF_10A_TR_3    33.74871        33.68255        33.66071        33.28753     \n",
       "MDA-MB-231_TR_1 35.04995        34.62665        34.62709        33.51765     \n",
       "MDA-MB-231_TR_2 34.62665        34.76205        34.53486        33.43964     \n",
       "MDA-MB-231_TR_3 34.62709        34.53486        34.81081        33.50986     \n",
       "HCC_1937_TR_1   33.51765        33.43964        33.50986        34.74744     \n",
       "HCC_1937_TR_2   33.59824        33.53723        33.55830        34.46222     \n",
       "HCC_1937_TR_3   33.72446        33.72089        33.74729        34.67965     \n",
       "                HCC_1937_TR_2 HCC_1937_TR_3\n",
       "MCF_10A_UT_1    27.21031      27.44368     \n",
       "MCF_10A_UT_2    27.17790      27.41936     \n",
       "MCF_10A_UT_3    27.11775      27.33717     \n",
       "MDA-MB-231_UT_1 27.16148      27.37288     \n",
       "MDA-MB-231_UT_2 27.09853      27.32977     \n",
       "MDA-MB-231_UT_3 27.09434      27.32255     \n",
       "HCC_1937_UT_1   27.91100      28.17245     \n",
       "HCC_1937_UT_2   27.94282      28.20191     \n",
       "HCC_1937_UT_3   28.08673      28.34994     \n",
       "MCF_10A_TR_1    33.24370      33.41639     \n",
       "MCF_10A_TR_2    33.56170      33.76465     \n",
       "MCF_10A_TR_3    33.35127      33.50025     \n",
       "MDA-MB-231_TR_1 33.59824      33.72446     \n",
       "MDA-MB-231_TR_2 33.53723      33.72089     \n",
       "MDA-MB-231_TR_3 33.55830      33.74729     \n",
       "HCC_1937_TR_1   34.46222      34.67965     \n",
       "HCC_1937_TR_2   34.73455      34.69521     \n",
       "HCC_1937_TR_3   34.69521      35.30218     "
      ]
     },
     "metadata": {},
     "output_type": "display_data"
    }
   ],
   "source": [
    "#######################################################################\n",
    "########## Check Correlation of samples and Coefficient of Variation\n",
    "\n",
    "# individual TMTs \n",
    "Pearson <- cor(t(datTMT1[,6:ncol(datTMT1)]), use=\"all.obs\", method=\"pearson\")\n",
    "Pearson\n",
    "#write.csv(Pearson, 'Allen_Pearson.csv')\n",
    "\n",
    "Spearman <- cor(t(datTMT1[,6:ncol(datTMT1)]), use=\"all.obs\", method=\"spearman\")\n",
    "Spearman\n",
    "#write.csv(Spearman, 'Allen_Spearman.csv')\n",
    "\n",
    "COV <- cov(t(datTMT1[,6:ncol(datTMT1)]), use=\"all.obs\")\n",
    "COV\n",
    "#write.csv(COV, 'Allen_Coefficient of Variation.csv')\n"
   ]
  },
  {
   "cell_type": "code",
   "execution_count": 12,
   "metadata": {},
   "outputs": [
    {
     "data": {
      "text/plain": [
       "Importance of components:\n",
       "                           PC1      PC2      PC3      PC4      PC5      PC6\n",
       "Standard deviation     203.378 56.66977 45.43088 24.28511 20.71324 13.84964\n",
       "Proportion of Variance   0.838  0.06506  0.04181  0.01195  0.00869  0.00389\n",
       "Cumulative Proportion    0.838  0.90302  0.94483  0.95678  0.96547  0.96936\n",
       "                            PC7      PC8      PC9     PC10     PC11     PC12\n",
       "Standard deviation     13.75708 13.07910 12.65783 12.11793 11.80742 11.70174\n",
       "Proportion of Variance  0.00383  0.00347  0.00325  0.00297  0.00282  0.00277\n",
       "Cumulative Proportion   0.97319  0.97666  0.97990  0.98288  0.98570  0.98848\n",
       "                           PC13     PC14    PC15     PC16    PC17      PC18\n",
       "Standard deviation     11.41664 11.07629 10.6542 10.43292 9.66257 9.209e-14\n",
       "Proportion of Variance  0.00264  0.00249  0.0023  0.00221 0.00189 0.000e+00\n",
       "Cumulative Proportion   0.99112  0.99360  0.9959  0.99811 1.00000 1.000e+00"
      ]
     },
     "metadata": {},
     "output_type": "display_data"
    },
    {
     "data": {
      "text/html": [
       "<table class=\"dataframe\">\n",
       "<caption>A matrix: 8 × 4 of type dbl</caption>\n",
       "<thead>\n",
       "\t<tr><th></th><th scope=col>PC1</th><th scope=col>PC2</th><th scope=col>PC3</th><th scope=col>PC4</th></tr>\n",
       "</thead>\n",
       "<tbody>\n",
       "\t<tr><th scope=row>Q13286</th><td>-1.525796e-03</td><td>-7.229989e-03</td><td>-6.515720e-04</td><td>-1.623387e-03</td></tr>\n",
       "\t<tr><th scope=row>A0A024QZP7</th><td> 8.494042e-04</td><td>-1.107625e-02</td><td>-5.754185e-03</td><td>-1.650401e-06</td></tr>\n",
       "\t<tr><th scope=row>A0A024QZW4</th><td>-3.335919e-02</td><td>-6.457863e-03</td><td> 3.166939e-03</td><td>-1.512689e-02</td></tr>\n",
       "\t<tr><th scope=row>A0A024QZX5</th><td>-1.277576e-04</td><td>-8.761755e-03</td><td> 1.764935e-03</td><td>-2.024211e-03</td></tr>\n",
       "\t<tr><th scope=row>A0A024R0K5</th><td> 9.744825e-03</td><td> 4.879358e-02</td><td> 4.146856e-04</td><td>-1.105204e-01</td></tr>\n",
       "\t<tr><th scope=row>A0A087WTV5</th><td> 4.060646e-02</td><td> 3.092703e-03</td><td>-4.296997e-03</td><td>-9.395213e-03</td></tr>\n",
       "\t<tr><th scope=row>Q9Y3E1</th><td>-6.528272e-03</td><td>-8.353487e-03</td><td> 1.212341e-02</td><td>-3.937835e-03</td></tr>\n",
       "\t<tr><th scope=row>A0A024R368</th><td>-3.484211e-18</td><td>-1.889205e-17</td><td>-1.954936e-18</td><td>-8.469733e-18</td></tr>\n",
       "</tbody>\n",
       "</table>\n"
      ],
      "text/latex": [
       "A matrix: 8 × 4 of type dbl\n",
       "\\begin{tabular}{r|llll}\n",
       "  & PC1 & PC2 & PC3 & PC4\\\\\n",
       "\\hline\n",
       "\tQ13286 & -1.525796e-03 & -7.229989e-03 & -6.515720e-04 & -1.623387e-03\\\\\n",
       "\tA0A024QZP7 &  8.494042e-04 & -1.107625e-02 & -5.754185e-03 & -1.650401e-06\\\\\n",
       "\tA0A024QZW4 & -3.335919e-02 & -6.457863e-03 &  3.166939e-03 & -1.512689e-02\\\\\n",
       "\tA0A024QZX5 & -1.277576e-04 & -8.761755e-03 &  1.764935e-03 & -2.024211e-03\\\\\n",
       "\tA0A024R0K5 &  9.744825e-03 &  4.879358e-02 &  4.146856e-04 & -1.105204e-01\\\\\n",
       "\tA0A087WTV5 &  4.060646e-02 &  3.092703e-03 & -4.296997e-03 & -9.395213e-03\\\\\n",
       "\tQ9Y3E1 & -6.528272e-03 & -8.353487e-03 &  1.212341e-02 & -3.937835e-03\\\\\n",
       "\tA0A024R368 & -3.484211e-18 & -1.889205e-17 & -1.954936e-18 & -8.469733e-18\\\\\n",
       "\\end{tabular}\n"
      ],
      "text/markdown": [
       "\n",
       "A matrix: 8 × 4 of type dbl\n",
       "\n",
       "| <!--/--> | PC1 | PC2 | PC3 | PC4 |\n",
       "|---|---|---|---|---|\n",
       "| Q13286 | -1.525796e-03 | -7.229989e-03 | -6.515720e-04 | -1.623387e-03 |\n",
       "| A0A024QZP7 |  8.494042e-04 | -1.107625e-02 | -5.754185e-03 | -1.650401e-06 |\n",
       "| A0A024QZW4 | -3.335919e-02 | -6.457863e-03 |  3.166939e-03 | -1.512689e-02 |\n",
       "| A0A024QZX5 | -1.277576e-04 | -8.761755e-03 |  1.764935e-03 | -2.024211e-03 |\n",
       "| A0A024R0K5 |  9.744825e-03 |  4.879358e-02 |  4.146856e-04 | -1.105204e-01 |\n",
       "| A0A087WTV5 |  4.060646e-02 |  3.092703e-03 | -4.296997e-03 | -9.395213e-03 |\n",
       "| Q9Y3E1 | -6.528272e-03 | -8.353487e-03 |  1.212341e-02 | -3.937835e-03 |\n",
       "| A0A024R368 | -3.484211e-18 | -1.889205e-17 | -1.954936e-18 | -8.469733e-18 |\n",
       "\n"
      ],
      "text/plain": [
       "           PC1           PC2           PC3           PC4          \n",
       "Q13286     -1.525796e-03 -7.229989e-03 -6.515720e-04 -1.623387e-03\n",
       "A0A024QZP7  8.494042e-04 -1.107625e-02 -5.754185e-03 -1.650401e-06\n",
       "A0A024QZW4 -3.335919e-02 -6.457863e-03  3.166939e-03 -1.512689e-02\n",
       "A0A024QZX5 -1.277576e-04 -8.761755e-03  1.764935e-03 -2.024211e-03\n",
       "A0A024R0K5  9.744825e-03  4.879358e-02  4.146856e-04 -1.105204e-01\n",
       "A0A087WTV5  4.060646e-02  3.092703e-03 -4.296997e-03 -9.395213e-03\n",
       "Q9Y3E1     -6.528272e-03 -8.353487e-03  1.212341e-02 -3.937835e-03\n",
       "A0A024R368 -3.484211e-18 -1.889205e-17 -1.954936e-18 -8.469733e-18"
      ]
     },
     "metadata": {},
     "output_type": "display_data"
    }
   ],
   "source": [
    "##################################################################\n",
    "#::::::::::::::::   Check PCA plots :::::::::::::::::::::::::::\n",
    "##################################################################\n",
    "\n",
    "dat1 <- TMT1[,-c(1:5)]\n",
    "dat2 <- as.matrix(dat1)\n",
    "\n",
    "prin_comp <- prcomp(dat2)\n",
    "summary(prin_comp)\n",
    "\n",
    "# standard deviation\n",
    "prin_comp_sd <- prin_comp$scale\n",
    "\n",
    "# mean\n",
    "prin_comp_center <- prin_comp$center\n",
    "# the loadings\n",
    "prin_comp_loadings <- prin_comp$rotation\n",
    "prin_comp$rotation[1:8, 1:4]"
   ]
  },
  {
   "cell_type": "code",
   "execution_count": 13,
   "metadata": {},
   "outputs": [
    {
     "data": {
      "image/png": "[encoded data removed]",
      "text/plain": [
       "plot without title"
      ]
     },
     "metadata": {
      "image/png": {
       "height": 420,
       "width": 420
      }
     },
     "output_type": "display_data"
    },
    {
     "data": {
      "image/png": "[encoded data removed]",
      "text/plain": [
       "plot without title"
      ]
     },
     "metadata": {
      "image/png": {
       "height": 420,
       "width": 420
      }
     },
     "output_type": "display_data"
    },
    {
     "data": {
      "image/png": "[encoded data removed]",
      "text/plain": [
       "plot without title"
      ]
     },
     "metadata": {
      "image/png": {
       "height": 420,
       "width": 420
      }
     },
     "output_type": "display_data"
    },
    {
     "data": {
      "image/png": "[encoded data removed]",
      "text/plain": [
       "plot without title"
      ]
     },
     "metadata": {
      "image/png": {
       "height": 420,
       "width": 420
      }
     },
     "output_type": "display_data"
    }
   ],
   "source": [
    "###### Plotting PCA ################\n",
    "#:::: Before Batch Correction:::::::::::::::\n",
    "\n",
    "autoplot(prcomp(dat2))\n",
    "autoplot(prcomp(dat2), data = TMT1, colour = 'Group')\n",
    "autoplot(prcomp(dat2), data = TMT1, colour = 'batch') # batch not set as a factor so give a gradient plot\n",
    "rownames(dat2) <- TMT1$Sample\n",
    "autoplot(prcomp(dat2), data = TMT1, colour = 'Group', shape = FALSE,  label.size = 4) + theme_classic()"
   ]
  },
  {
   "cell_type": "markdown",
   "metadata": {},
   "source": [
    "### Notice how the third plot shows a range of values for the batch. This is because we did not define batch as a factor in R. "
   ]
  },
  {
   "cell_type": "code",
   "execution_count": 14,
   "metadata": {},
   "outputs": [
    {
     "ename": "ERROR",
     "evalue": "Error in plotMDS(t(dat2), labels = TMT1$Sample, col = col): could not find function \"plotMDS\"\n",
     "output_type": "error",
     "traceback": [
      "Error in plotMDS(t(dat2), labels = TMT1$Sample, col = col): could not find function \"plotMDS\"\nTraceback:\n"
     ]
    }
   ],
   "source": [
    "##########################################################\n",
    "#:::::::::::::: MDS plot from edgeR package\n",
    "##########################################################\n",
    "#library(edgeR)\n",
    "col = c(rep(blue,3), rep(red,3), rep(orange,3), rep(green2,3))\n",
    "plotMDS(t(dat2), labels = TMT1$Sample, col=col)\n"
   ]
  },
  {
   "cell_type": "markdown",
   "metadata": {},
   "source": [
    "# Step 2. Differential Abundance Analysis\n",
    "\n",
    "## Steps for Differential Analysis\n",
    "1. The normalized protein file is now analyzed using LIMMA. \n",
    "2. The LIMMA model includes the sample group as well as any batch effects that need to be corrected\n",
    "3. A contrast matrix defines the sample group comparisons.\n",
    "4. lmFit: creates a linear model of the data\n",
    "5. eBayes: smooths the standard errors"
   ]
  },
  {
   "cell_type": "markdown",
   "metadata": {},
   "source": [
    "## terms\n",
    "\n",
    "\n",
    "<b> limma lmfit: </b> Fit linear model for each gene given a series of arrays. The main function for model fitting is lmFit. This is recommended interface for most users. lmFit produces a fitted model object of class MArrayLM containing coefficients, standard errors and residual standard errors for each gene.\n",
    "\n",
    "<b>Assessing Differential Abundance:</b> After fitting a linear model, the standard errors are moderated using a simple empirical Bayes model using eBayes or treat. A moderated t-statistic and a log-odds of differential expression is computed for each contrast for each gene. \n",
    "\n",
    "<b> treat: </b> Tests whether log-fold-changes are greater than a threshold rather than merely different to zero.\n",
    "\n",
    "<b> eBayes: </b>  Given a linear model fit from lmFit, compute moderated t-statistics, moderated F-statistic, and log-odds of differential expression by empirical Bayes moderation of the standard errors towards a global value \n",
    "\n",
    "These functions are used to rank genes in order of evidence for differential expression. They use an\n",
    "empirical Bayes method to squeeze the genewise-wise residual variances towards a common value\n",
    "(or towards a global trend) (Smyth, 2004; Phipson et al, 2016). The degrees of freedom for the\n",
    "individual variances are increased to reflect the extra information gained from the empirical Bayes\n",
    "moderation, resulting in increased statistical power to detect differential expression.\n",
    "\n",
    "<p>These functions accept as input an MArrayLM fitted model object fit produced by lmFit. The\n",
    "columns of fit define a set of contrasts which are to be tested equal to zero. The fitted model\n",
    "object may have been processed by contrasts.fit before being passed to eBayes to convert the\n",
    "coefficients of the original design matrix into an arbitrary number of contrasts.</p>\n",
    "\n",
    "<p> The empirical Bayes moderated t-statistics test each individual contrast equal to zero. For each gene\n",
    "(row), the moderated F-statistic tests whether all the contrasts are zero. The F-statistic is an overall\n",
    "test computed from the set of t-statistics for that probe. This is exactly analogous the relationship\n",
    "between t-tests and F-statistics in conventional anova, except that the residual mean squares have\n",
    "been moderated between genes.</p>\n",
    "\n",
    "eBayes does not compute ordinary t-statistics because they always have worse performance than the moderated versions. \n",
    "\n",
    "<b>Covariates </b> contain numerical values that are quantitative measurements associated with samples in the experiment. These can be the age or weight of an individual, or other molecular or cellular phenotypes on a sample, such as measurements obtained from a polymerase chain reaction (PCR) experiment or fluorescence activated cell sorting (FACS)\n",
    "\n",
    "<p>For covariates, it is generally of interest to know the rate of change between the response and the covariate, such as “how much does the expression of a particular gene increase/decrease per unit increase in age?”. We can use a straight line to model, or describe, this relationship, where the line is defined by β0 the y-intercept and β1 the slope.</p>\n",
    "    \n",
    "In this model, the age covariate takes continuous, numerical values such as 0.8, 1.3, 2.0, 5.6, and so on.\n",
    "We refer to this model generally as a <b> regression model </b>, where the slope indicates the rate of change, or how much gene expression is expected to increase/decrease by per unit increase of the covariate. \n",
    "\n",
    "<p> The y-intercept and slope of the line, or the βs (β0 and β1), are referred to as the model parameters. \n",
    "The true values of the parameters are unknown, but are estimated in the modelling process. </p>\n",
    "\n",
    "<p> A positive estimate of a model parameter indicates that an explanatory variable has a positive influence on gene expression (an increasing slope), whilst a negative value indicates that the explanatory variable has a negative influence on gene expression (a decreasing slope). </p>\n",
    "\n",
    " In some cases, one may convert the age covariate into a factor by categorizing the smaller values as “young” and larger values as “mature”, and instead use the models described below.\n"
   ]
  },
  {
   "cell_type": "markdown",
   "metadata": {},
   "source": [
    "<img src=\"https://www.ncbi.nlm.nih.gov/pmc/articles/PMC7873980/bin/f1000research-9-30844-g0000.jpg\" alt=\"model\" width=\"800\" height=\"800\">\n",
    "\n",
    "### Basic models for covariate and factor explanatory variables.\n",
    "LEFT: The basic model for covariates is referred to as a regression model, which is a line defined by the model parameters β 0 the y-intercept, and β 1 the slope. CENTER: One of two basic models for factors is referred to as a means model, where model parameters are calculated as the mean gene expression of each level of the factor e.g. β 1 represents the mean expression for wildtype and β 2 represents the mean of mutant. RIGHT: The other basic model we refer to for factors is a mean-reference model, where the first model parameter is calculated as the mean gene expression of the reference level, and subsequent parameters are calculated relative to the reference level e.g. β 1 represents the mean expression for wildtype and β 2 represents the difference between mutant and wildtype. In each plot, the points represent the original data; coloured lines are used to represent expected gene expression, where dashed lines are specifically used to represent expected gene expression for non-reference levels in the mean-reference model e.g. mutant.\n",
    "\n",
    "Reference: Charity Law: https://www.ncbi.nlm.nih.gov/pmc/articles/PMC7873980/#!po=6.25000 "
   ]
  },
  {
   "cell_type": "markdown",
   "metadata": {},
   "source": [
    "## limma design\n",
    "\n",
    "The choice of design matrix is a critical step in linear modeling since it encodes which coefficients will be fit in the model, as well as the inter-relationship between the samples. \n",
    "\n",
    "A common misunderstanding is that the choice of design follows straightforward from a description of which samples were included in the experiment. This is not the case. The basic information about each sample (whether control or treatment group, experimental batch, etc.) does not imply a single ‘correct’ design matrix. The design matrix additionally encodes various assumptions about how the variables in X explain the observed values in Y, on which the investigator must decide. \n",
    "\n",
    "The design matrices that we ultimately work with will have at least two columns: an intercept column, which consists of a column of 1’s, and a second column, that specifies which samples are in a second group. In this case, two coefficients are fit in the linear model: the intercept, which represents the population average of the first group, and a second coefficient, which represents the difference between the population averages of the second group and the first group. The latter is typically the coefficient we are interested in when we are performing statistical tests: we want to know if their is a difference between the two groups.\n",
    "\n",
    "A note about factors: the names of the levels are irrelevant to model.matrix and lm. All that matters is the order. For example:\n",
    "\n",
    "group <- factor(c(\"control\",\"control\",\"highfat\",\"highfat\"))\n",
    "model.matrix(~ group)\n",
    "https://genomicsclass.github.io/book/pages/expressing_design_formula.html\n",
    "\n",
    "We use a no intercept model and apply the make.contrasts function to allow for sample group comparisons to be defined. "
   ]
  },
  {
   "cell_type": "code",
   "execution_count": null,
   "metadata": {},
   "outputs": [],
   "source": [
    "#############################################################\n",
    "# :::::::::::: LIMMA \n",
    "#############################################################\n",
    "df <- t(dat2)\n",
    "head(df)"
   ]
  },
  {
   "cell_type": "code",
   "execution_count": null,
   "metadata": {},
   "outputs": [],
   "source": [
    "vec <- c(rep(\"control_UT\",3),rep(\"TNBC_WT_UT\",3), rep(\"TNBC_mu_UT\",3),rep(\"control_Tx\",3),rep(\"TNBC_WT_Tx\",3), rep(\"TNBC_mu_Tx\",3))\n",
    "group <- factor(vec, levels=c(\"control_UT\", \"TNBC_WT_UT\",\"TNBC_mu_UT\",\"control_Tx\", \"TNBC_WT_Tx\",\"TNBC_mu_Tx\"))\n",
    "\n",
    "design = model.matrix(~0 + group)\n",
    "colnames(design) <- levels(group)\n",
    "design"
   ]
  },
  {
   "cell_type": "code",
   "execution_count": null,
   "metadata": {},
   "outputs": [],
   "source": [
    "# To make all pair-wise comparisons between the three groups the appropriate contrast matrix can be created by\n",
    "\n",
    "contr.matrix = makeContrasts(\n",
    "  TNBCWT_UTvscontrol =  TNBC_WT_UT - control_UT,\n",
    "  TNBCmu_UTvscontrol =  TNBC_mu_UT - control_UT,\n",
    "  TNBCWT_Txvscontrol =  TNBC_WT_Tx - control_Tx,\n",
    "  TNBCmu_Txvscontrol =  TNBC_mu_Tx - control_Tx,\n",
    "  levels = colnames(design))\n",
    "contr.matrix"
   ]
  },
  {
   "cell_type": "code",
   "execution_count": null,
   "metadata": {},
   "outputs": [],
   "source": [
    "fit <- lmFit(df, design)\n",
    "\n",
    "cont_fit <- contrasts.fit(fit, contr.matrix)\n",
    "\n",
    "fit2 <- eBayes(cont_fit)\n",
    "top10 <- topTable(fit2, coef=1)\n",
    "top10\n"
   ]
  },
  {
   "cell_type": "markdown",
   "metadata": {},
   "source": [
    "<table>\n",
    "    <tr>\n",
    "        <th> TopTable </th>\n",
    "        <th> Description </th> \n",
    "     </tr>\n",
    "    <tr>\n",
    "       <td> genelist </td>\n",
    "       <td> one or more columns of probe annotation </td>\n",
    "    </tr>\n",
    "    <tr>\n",
    "       <td> logFC </td>\n",
    "       <td> estimate of the log2 fold change corresponding to the contrast </td>\n",
    "    </tr>\n",
    "    <tr>\n",
    "       <td> CI.L </td>\n",
    "       <td> left limit of confidence interval for logFC </td>\n",
    "    </tr>\n",
    "    <tr>\n",
    "       <td> CI.R </td>\n",
    "       <td> right limit of confidence interval for logFC </td>\n",
    "    </tr>\n",
    "   <tr>\n",
    "       <td> AveExpr </td>\n",
    "       <td> average log2 expression for the probe over all arrays and channels </td>\n",
    "    </tr>\n",
    "    <tr>\n",
    "       <td> t </td>\n",
    "       <td> moderated t-statistic </td>\n",
    "    </tr>\n",
    "    <tr>\n",
    "       <td> F </td>\n",
    "       <td> moderated F-statistic </td>\n",
    "    </tr>\n",
    "    <tr>\n",
    "       <td> P.value </td>\n",
    "       <td> raw p-value </td>\n",
    "    </tr>\n",
    "   <tr>\n",
    "       <td> adj.P.value </td>\n",
    "       <td> adjusted p-value or q-value </td>\n",
    "    </tr>\n",
    "    <tr>\n",
    "       <td> B </td>\n",
    "       <td> log-odds that the gene is differentially expressed </td>\n",
    "    </tr>\n",
    "        \n",
    " </table>\n",
    " \n",
    " <p> <b> Note. </b> If there is no good evidence for differential expression in the experiment, that it is quite possible for all the adjusted p-values to be large, even for all of them to be equal to one. It is quite possible for all the adjusted p-values to be equal to one if the smallest p-value is no smaller than '1/ngenes' where 'ngenes' is the number of genes with non-missing p-values. https://www.rdocumentation.org/packages/limma/versions/3.28.14/topics/toptable\n",
    "</p>"
   ]
  },
  {
   "cell_type": "code",
   "execution_count": null,
   "metadata": {},
   "outputs": [],
   "source": [
    "results.coef1 <- topTable(fit2, coef=1, number=Inf, sort.by=\"none\")\n",
    "results.coef2 <- topTable(fit2, coef=2, number=Inf, sort.by=\"none\")\n",
    "results.coef3 <- topTable(fit2, coef=3, number=Inf, sort.by=\"none\")\n",
    "results.coef4 <- topTable(fit2, coef=4, number=Inf, sort.by=\"none\")\n",
    "\n",
    "results.coef <- cbind(results.coef1, results.coef2, results.coef3, results.coef4)\n",
    "\n",
    "#write.csv(results.coef, \"Limma_eBayes_results.csv\")\n"
   ]
  },
  {
   "cell_type": "code",
   "execution_count": null,
   "metadata": {},
   "outputs": [],
   "source": [
    "summary(decideTests(fit2, method=\"global\"))"
   ]
  },
  {
   "cell_type": "code",
   "execution_count": null,
   "metadata": {},
   "outputs": [],
   "source": [
    "# Reference: https://www.bioconductor.org/packages/devel/bioc/vignettes/limma/inst/doc/usersguide.pdf \n",
    "# The outcome of each hypothesis test can be assigned using \n",
    "results <- decideTests(fit2)\n",
    "head(results)"
   ]
  },
  {
   "cell_type": "code",
   "execution_count": null,
   "metadata": {},
   "outputs": [],
   "source": [
    "# A Venn diagram showing numbers of genes significant in each comparison can be obtained from\n",
    "\n",
    "vennDiagram(results)"
   ]
  },
  {
   "cell_type": "code",
   "execution_count": null,
   "metadata": {},
   "outputs": [],
   "source": [
    "plotMD(fit2, coef=1, status=results)"
   ]
  },
  {
   "cell_type": "code",
   "execution_count": null,
   "metadata": {},
   "outputs": [],
   "source": [
    "# To find all those proteins that are up-regulated using a 2-fold-change and 5% FDR: \n",
    "results <- decideTests(fit2, lfc=1) \n",
    "vennDiagram(results, include=c(\"up\",\"down\"))"
   ]
  },
  {
   "cell_type": "code",
   "execution_count": null,
   "metadata": {},
   "outputs": [],
   "source": [
    "head(results)"
   ]
  },
  {
   "cell_type": "code",
   "execution_count": null,
   "metadata": {},
   "outputs": [],
   "source": [
    "i <- 1\n",
    "\n",
    "png(file.path(\".\", paste(\"03_\",\"MD.plot.png\",sep=\"\")), units=\"in\", width=5, height=5, res=1000, pointsize=10)\n",
    "{\n",
    "     ##----------------------------------------------------------------------------\n",
    "     op <- par(no.readonly = TRUE)  # save current par settings b4 plotting\n",
    "     #par(mfrow = c(4, 5))          # multiple plots\n",
    "     par(mar = c(5, 5, 4, 1))       # inner margin (bottom, left, top, right)\n",
    "     par(mgp = c(3, 1, 0))          # axis margin (labels, ticks, line)\n",
    "     par(oma = c(2, 1, 0, 1))       # outer margin (bottom, left, top, right)\n",
    "     ##----------------------------------------------------------------------------\n",
    "     plotMD(fit2, column=i, cex=1, las=1, status=results[,i], values=c(1,-1), col=c(\"red\",\"blue\"), \n",
    "            legend=\"topright\", main=\"\", \n",
    "            xlab=expression(paste(\"avg. \", log[2],\" (counts-per-million)\",sep=\"\")),\n",
    "            ylab=expression(paste(log[2],\" (fold-change)\",sep=\"\")),\n",
    "            cex.axis=1.1, cex.lab=1.2\n",
    "            # ,ylim=c(-11,13)\n",
    "            #,xlim=c(2,14)\n",
    "     )\n",
    "     title(main=paste(\"MD plot: \", \"group 1 vs. group 2\", \"\", sep=\"\"))\n",
    "     legend(\"topright\", c(\"up\", \"not sig.\", \"down\"), inset=0, pch=19,\n",
    "            box.col=\"black\", box.lwd=1, bg=\"white\",\n",
    "            col=c(\"red\",\"black\",\"blue\"), ncol=1, cex=1)\n",
    "     \n",
    "     # text(x=12, y=-3, label=paste(\"up =\", summary(dt)[3], sep=\" \"), adj=0, col=\"red\", cex=0.9, font=1)\n",
    "     # text(x=12, y=-4, label=paste(\"not sig. =\", summary(dt)[2], sep=\" \"), adj=0, col=\"black\", cex=0.9, font=1)\n",
    "     # text(x=12, y=-5, label=paste(\"down =\", summary(dt)[1], sep=\" \"), adj=0, col=\"blue\", cex=0.9, font=1)\n",
    "     abline(h=c(-1,1), col=\"black\", lty=2,lwd=1)\n",
    "}\n",
    "\n",
    "\n",
    "dev.off()"
   ]
  },
  {
   "cell_type": "code",
   "execution_count": null,
   "metadata": {},
   "outputs": [],
   "source": [
    "  ##----------------------------------------------------------------------------\n",
    "     op <- par(no.readonly = TRUE)  # save current par settings b4 plotting\n",
    "     #par(mfrow = c(4, 5))          # multiple plots\n",
    "     par(mar = c(5, 5, 4, 1))       # inner margin (bottom, left, top, right)\n",
    "     par(mgp = c(3, 1, 0))          # axis margin (labels, ticks, line)\n",
    "     par(oma = c(2, 1, 0, 1))       # outer margin (bottom, left, top, right)\n",
    "     ##----------------------------------------------------------------------------\n",
    "\n",
    "plotMD(fit2, column=1, cex=1, las=1, status=results[,1], values=c(1,-1), col=c(\"red\",\"blue\"), \n",
    "            legend=\"topright\", main=\"\", \n",
    "            xlab=expression(paste(\"avg. \", log[2],\" (counts-per-million)\",sep=\"\")),\n",
    "            ylab=expression(paste(log[2],\" (fold-change)\",sep=\"\")),\n",
    "            cex.axis=1.1, cex.lab=1.2\n",
    "            # ,ylim=c(-11,13)\n",
    "            #,xlim=c(2,14)\n",
    "     )\n",
    "     title(main=paste(\"MD plot: \", \"Group 1 vs. Group 2\", \"\", sep=\"\"))\n",
    "     legend(\"topright\", c(\"up\", \"not sig.\", \"down\"), inset=0, pch=19,\n",
    "            box.col=\"black\", box.lwd=1, bg=\"white\",\n",
    "            col=c(\"red\",\"black\",\"blue\"), ncol=1, cex=1)\n",
    "     \n",
    "      text(x=12, y=-3, label=paste(\"up =\", summary(results)[3], sep=\" \"), adj=0, col=\"red\", cex=0.9, font=1)\n",
    "      text(x=12, y=-4, label=paste(\"not sig. =\", summary(results)[2], sep=\" \"), adj=0, col=\"black\", cex=0.9, font=1)\n",
    "      text(x=12, y=-5, label=paste(\"down =\", summary(results)[1], sep=\" \"), adj=0, col=\"blue\", cex=0.9, font=1)\n",
    "     abline(h=c(-1,1), col=\"black\", lty=2,lwd=1)"
   ]
  },
  {
   "cell_type": "markdown",
   "metadata": {},
   "source": [
    "## References\n",
    "\n",
    "1. Hu A, Noble WS, Wolf-Yadlin A. Technical advances in proteomics: new developments in data-independent acquisition. F1000Res. 2016;5(F1000 Faculty Rev):419. doi: 10.12688/f1000research.7042.1.\n",
    "\n",
    "2. Kawashima Y, Watanabe E, Umeyama T, et al. Optimization of data-independent acquisition mass spectrometry for deep and highly sensitive proteomic analysis. Int. J. Mol. Sci. 2019;20(23):E5932. doi: 10.3390/ijms20235932.\n",
    "\n",
    "3. Bruderer R, Bernhardt OM, Gandhi T, et al. Optimization of experimental parameters in data-independent mass spectrometry significantly increases depth and reproducibility of results. Mol Cell Proteomics. 2017;16(12):2296–2309. doi: 10.1074/mcp.RA117.000314.\n",
    "\n",
    "4. Storey AJ, Naceanceno KS, Lan RS, et al. ProteoViz: a tool for the analysis and interactive visualization of phosphoproteomics data. Mol Omics. 2020;16(4):316-326. doi:10.1039/c9mo00149b\n",
    "\n",
    "5. Graw S, Tang J, Zafar MK, et al. proteiNorm - A User-Friendly Tool for Normalization and Analysis of TMT and Label-Free Protein Quantification. ACS Omega. 2020;5(40):25625-25633. Published 2020 Sep 30. doi:10.1021/acsomega.0c02564\n",
    "\n",
    "6. Law CW, Zeglinski K, Dong X, Alhamdoosh M, Smyth GK, Ritchie ME. A guide to creating design matrices for gene expression experiments. F1000Res. 2020;9:1444. Published 2020 Dec 10. doi:10.12688/f1000research.27893.1\n"
   ]
  }
 ],
 "metadata": {
  "environment": {
   "kernel": "ir",
   "name": "r-cpu.4-2.m100",
   "type": "gcloud",
   "uri": "gcr.io/deeplearning-platform-release/r-cpu.4-2:m100"
  },
  "kernelspec": {
   "display_name": "R",
   "language": "R",
   "name": "ir"
  },
  "language_info": {
   "codemirror_mode": "r",
   "file_extension": ".r",
   "mimetype": "text/x-r-source",
   "name": "R",
   "pygments_lexer": "r",
   "version": "4.2.2"
  }
 },
 "nbformat": 4,
 "nbformat_minor": 4
}
